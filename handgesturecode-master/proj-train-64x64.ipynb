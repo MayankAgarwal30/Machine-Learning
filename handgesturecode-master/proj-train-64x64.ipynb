{
 "cells": [
  {
   "cell_type": "code",
   "execution_count": 20,
   "metadata": {
    "collapsed": true
   },
   "outputs": [],
   "source": [
    "import numpy as np\n",
    "import mxnet as mx\n",
    "import time\n",
    "import pandas as pd\n",
    "\n",
    "import cv2\n",
    "\n",
    "import logging\n",
    "logging.getLogger().setLevel(logging.DEBUG)  # logging to stdout"
   ]
  },
  {
   "cell_type": "code",
   "execution_count": 21,
   "metadata": {
    "collapsed": true
   },
   "outputs": [],
   "source": [
    "import matplotlib.pyplot as plt\n",
    "%matplotlib inline"
   ]
  },
  {
   "cell_type": "code",
   "execution_count": 22,
   "metadata": {
    "collapsed": true
   },
   "outputs": [],
   "source": [
    "data0 = pd.read_csv('full_hand_data.csv')#, names=['name','state'])"
   ]
  },
  {
   "cell_type": "code",
   "execution_count": 23,
   "metadata": {},
   "outputs": [
    {
     "data": {
      "text/html": [
       "<div>\n",
       "<style>\n",
       "    .dataframe thead tr:only-child th {\n",
       "        text-align: right;\n",
       "    }\n",
       "\n",
       "    .dataframe thead th {\n",
       "        text-align: left;\n",
       "    }\n",
       "\n",
       "    .dataframe tbody tr th {\n",
       "        vertical-align: top;\n",
       "    }\n",
       "</style>\n",
       "<table border=\"1\" class=\"dataframe\">\n",
       "  <thead>\n",
       "    <tr style=\"text-align: right;\">\n",
       "      <th></th>\n",
       "      <th>name</th>\n",
       "      <th>state</th>\n",
       "    </tr>\n",
       "  </thead>\n",
       "  <tbody>\n",
       "    <tr>\n",
       "      <th>0</th>\n",
       "      <td>data/fdata1/hand_pic/a_232bf02f_0_lc.jpg</td>\n",
       "      <td>0</td>\n",
       "    </tr>\n",
       "    <tr>\n",
       "      <th>1</th>\n",
       "      <td>data/fdata1/hand_pic/a_232bf02f_1_lo.jpg</td>\n",
       "      <td>1</td>\n",
       "    </tr>\n",
       "    <tr>\n",
       "      <th>2</th>\n",
       "      <td>data/fdata1/hand_pic/a_232bf02f_2_lq.jpg</td>\n",
       "      <td>2</td>\n",
       "    </tr>\n",
       "    <tr>\n",
       "      <th>3</th>\n",
       "      <td>data/fdata1/hand_pic/a_232bf02f_3_lw.jpg</td>\n",
       "      <td>3</td>\n",
       "    </tr>\n",
       "    <tr>\n",
       "      <th>4</th>\n",
       "      <td>data/fdata1/hand_pic/a_232bf02f_4_le.jpg</td>\n",
       "      <td>4</td>\n",
       "    </tr>\n",
       "  </tbody>\n",
       "</table>\n",
       "</div>"
      ],
      "text/plain": [
       "                                       name  state\n",
       "0  data/fdata1/hand_pic/a_232bf02f_0_lc.jpg      0\n",
       "1  data/fdata1/hand_pic/a_232bf02f_1_lo.jpg      1\n",
       "2  data/fdata1/hand_pic/a_232bf02f_2_lq.jpg      2\n",
       "3  data/fdata1/hand_pic/a_232bf02f_3_lw.jpg      3\n",
       "4  data/fdata1/hand_pic/a_232bf02f_4_le.jpg      4"
      ]
     },
     "execution_count": 23,
     "metadata": {},
     "output_type": "execute_result"
    }
   ],
   "source": [
    "data0.head()"
   ]
  },
  {
   "cell_type": "code",
   "execution_count": 24,
   "metadata": {
    "collapsed": true
   },
   "outputs": [],
   "source": [
    "num_class = len(data0['state'].unique())"
   ]
  },
  {
   "cell_type": "code",
   "execution_count": 25,
   "metadata": {},
   "outputs": [
    {
     "data": {
      "text/plain": [
       "{u'0': u' lc',\n",
       " u'1': u' lo',\n",
       " u'10': u' mc',\n",
       " u'11': u' mo',\n",
       " u'12': u' mq',\n",
       " u'13': u' mw',\n",
       " u'14': u' me',\n",
       " u'15': u' m1',\n",
       " u'16': u' m2',\n",
       " u'17': u' m3',\n",
       " u'18': u' m4',\n",
       " u'19': u' m5',\n",
       " u'2': u' lq',\n",
       " u'20': u' rc',\n",
       " u'21': u' ro',\n",
       " u'22': u' rq',\n",
       " u'23': u' rw',\n",
       " u'24': u' re',\n",
       " u'25': u' r1',\n",
       " u'26': u' r2',\n",
       " u'27': u' r3',\n",
       " u'28': u' r4',\n",
       " u'29': u' r5',\n",
       " u'3': u' lw',\n",
       " u'30': u'vc',\n",
       " u'31': u'vo',\n",
       " u'32': u'vq',\n",
       " u'33': u'vw',\n",
       " u'34': u've',\n",
       " u'35': u'v1',\n",
       " u'36': u'v2',\n",
       " u'37': u'v3',\n",
       " u'38': u'v4',\n",
       " u'39': u'v5',\n",
       " u'4': u' le',\n",
       " u'5': u' l1',\n",
       " u'6': u' l2',\n",
       " u'7': u' l3',\n",
       " u'8': u' l4',\n",
       " u'9': u' l5'}"
      ]
     },
     "execution_count": 25,
     "metadata": {},
     "output_type": "execute_result"
    }
   ],
   "source": [
    "import json\n",
    "with open('num2ges.json') as fin:\n",
    "    num_to_ges = json.load(fin, encoding='latin')\n",
    "num_to_ges"
   ]
  },
  {
   "cell_type": "code",
   "execution_count": 26,
   "metadata": {
    "collapsed": true
   },
   "outputs": [],
   "source": [
    "# data0 = data0.replace({'state':ges_to_num})"
   ]
  },
  {
   "cell_type": "code",
   "execution_count": 27,
   "metadata": {},
   "outputs": [
    {
     "data": {
      "text/plain": [
       "(4320, 2)"
      ]
     },
     "execution_count": 27,
     "metadata": {},
     "output_type": "execute_result"
    }
   ],
   "source": [
    "data0.shape"
   ]
  },
  {
   "cell_type": "code",
   "execution_count": 28,
   "metadata": {},
   "outputs": [
    {
     "data": {
      "text/plain": [
       "((4320, 3, 64, 64), (4320,))"
      ]
     },
     "execution_count": 28,
     "metadata": {},
     "output_type": "execute_result"
    }
   ],
   "source": [
    "import os\n",
    "\n",
    "models_path = 'models'\n",
    "if not os.path.exists(models_path):\n",
    "    os.makedirs(models_path)\n",
    "\n",
    "labels = np.empty((data0.shape[0]))\n",
    "\n",
    "# res_width, res_height = 200, 200\n",
    "res_width, res_height = 64, 64\n",
    "\n",
    "imgs = np.empty(shape=(data0.shape[0],3, res_width,res_height))\n",
    "imgs.shape, labels.shape"
   ]
  },
  {
   "cell_type": "code",
   "execution_count": 29,
   "metadata": {
    "collapsed": true
   },
   "outputs": [],
   "source": [
    "\n",
    "for i, (im_path, state) in enumerate(data0.values):\n",
    "#     im_path = prefix + im_name\n",
    "#     print im_path\n",
    "    img = cv2.imread(im_path)\n",
    "    gray = cv2.cvtColor(img, cv2.COLOR_BGR2YCR_CB)\n",
    "    res = cv2.resize(gray,(res_width, res_height), interpolation=cv2.INTER_CUBIC)\n",
    "\n",
    "    res = np.swapaxes(res, 0, 2)\n",
    "    res = np.swapaxes(res, 1, 2)\n",
    "    res = res[np.newaxis, :]\n",
    "\n",
    "    imgs[i] = res\n",
    "    labels[i] = state"
   ]
  },
  {
   "cell_type": "code",
   "execution_count": 30,
   "metadata": {
    "collapsed": true
   },
   "outputs": [],
   "source": [
    "# plt.imshow(gray)"
   ]
  },
  {
   "cell_type": "code",
   "execution_count": 31,
   "metadata": {
    "collapsed": true
   },
   "outputs": [],
   "source": [
    "from sklearn.model_selection import train_test_split\n",
    "train_data, test_data, train_label, test_label = train_test_split(imgs, labels, test_size=0.1, shuffle=True)"
   ]
  },
  {
   "cell_type": "code",
   "execution_count": 32,
   "metadata": {},
   "outputs": [
    {
     "data": {
      "text/plain": [
       "((3888, 3, 64, 64), (3888,), (432, 3, 64, 64), (432,))"
      ]
     },
     "execution_count": 32,
     "metadata": {},
     "output_type": "execute_result"
    }
   ],
   "source": [
    "# train_data, train_label = imgs, labels\n",
    "# test_data, test_label = imgs[23:], labels[2:]\n",
    "train_data.shape, train_label.shape, test_data.shape, test_label.shape"
   ]
  },
  {
   "cell_type": "code",
   "execution_count": 33,
   "metadata": {},
   "outputs": [
    {
     "data": {
      "text/plain": [
       "array([  5.,  30.,  34.,  24.,  13.,  14.,  34.,   6.,  38.,  33.,   5.,\n",
       "        11.,  38.,  19.,  28.,  30.,  33.,  31.,  14.,  38.,   2.,  36.,\n",
       "        23.,  15.,  38.,  33.,  27.,  37.,  31.,  30.,   9.,  33.,  31.,\n",
       "        21.,   3.,   2.,  36.,  39.,  38.,   9.,  33.,   4.,  39.,  18.,\n",
       "        33.,   4.,  32.,  36.,  31.,  31.,  28.,  25.,  30.,  36.,   9.,\n",
       "        30.,  21.,  30.,   5.,  34.,  38.,  35.,   7.,  36.,  25.,  35.,\n",
       "        31.,   9.,   4.,  27.,  10.,  34.,   5.,  18.,  14.,   2.,  33.,\n",
       "        37.,  38.,  37.,  11.,  32.,  37.,  34.,   1.,  32.,  38.,  30.,\n",
       "        32.,  26.,  36.,  24.,  25.,  35.,  28.,  30.,   4.,   2.,   4.,\n",
       "        14.,  36.,  33.,  24.,  38.,  37.,  30.,  38.,  39.,  39.,  29.,\n",
       "        21.,   0.,  37.,  35.,   2.,  14.,  32.,  10.,   9.,  31.,  20.,\n",
       "        22.,  32.,   1.,  37.,  30.,  14.,  12.,  16.,  31.,  35.,   4.,\n",
       "        15.,   1.,  36.,   4.,  37.,  26.,  20.,  36.,  22.,  24.,  12.,\n",
       "        23.,  10.,  30.,  34.,  28.,  33.,  24.,  22.,  32.,  38.,   8.,\n",
       "        37.,  30.,  35.,  23.,  32.,  19.,  33.,  16.,   2.,  31.,  16.,\n",
       "        32.,  24.,   5.,  38.,  34.,  31.,  17.,  19.,  12.,  39.,   6.,\n",
       "        24.,  29.,  37.,  11.,  22.,  39.,  39.,  14.,  32.,  22.,  19.,\n",
       "        11.,  10.,   8.,  21.,  11.,   4.,  38.,   7.,  18.,  16.,  28.,\n",
       "        21.,  14.,  37.,  20.,  23.,  18.,  36.,  30.,  19.,  16.,  31.,\n",
       "         4.,  26.,  10.,   1.,  14.,  30.,   2.,  36.,  34.,  30.,  30.,\n",
       "        27.,   2.,  35.,  30.,  32.,  17.,  39.,   3.,   5.,  37.,   1.,\n",
       "        33.,  34.,  30.,   2.,  25.,  24.,  36.,  33.,  13.,  35.,  35.,\n",
       "        36.,  21.,  32.,  25.,  17.,  16.,  15.,  23.,  23.,  38.,  11.,\n",
       "         7.,  29.,   2.,   4.,  15.,   5.,  37.,  16.,  16.,  39.,  23.,\n",
       "        12.,  33.,  19.,  11.,  21.,   7.,  37.,  36.,  36.,  23.,  38.,\n",
       "        31.,  31.,  10.,  10.,  39.,  35.,  33.,  37.,  34.,  36.,  28.,\n",
       "        27.,  37.,   8.,  18.,  35.,  39.,  38.,  30.,  31.,  38.,  30.,\n",
       "        38.,  37.,  17.,  32.,   3.,  39.,  20.,  20.,  17.,  35.,  34.,\n",
       "        29.,  16.,  39.,   8.,  28.,  27.,  34.,  33.,  39.,  10.,  38.,\n",
       "        32.,  34.,   8.,  32.,  31.,  12.,  12.,   9.,   8.,  25.,  34.,\n",
       "        13.,  34.,   7.,   4.,  31.,  15.,  21.,   6.,  20.,  27.,  21.,\n",
       "        37.,  38.,  30.,  24.,  35.,  34.,   1.,  27.,  35.,   9.,  22.,\n",
       "        25.,  37.,  37.,   9.,  36.,  38.,  11.,  38.,  35.,   4.,  39.,\n",
       "        32.,  39.,  32.,  38.,  10.,  24.,  16.,  30.,  10.,  38.,  15.,\n",
       "         4.,  38.,  36.,  34.,  13.,   2.,  26.,  33.,  26.,  36.,  32.,\n",
       "        12.,  34.,  22.,  23.,  17.,  37.,  17.,  29.,  28.,   5.,  14.,\n",
       "        10.,  20.,  20.,  39.,  20.,   4.,  10.,  35.,  37.,  29.,  38.,\n",
       "        35.,  23.,  34.,  33.,  38.,  30.,  37.,  20.,   1.,  38.,  35.,\n",
       "        39.,  36.,  39.,  10.,  31.,  38.,  25.,  36.,  37.,  32.,  32.,\n",
       "        33.,  33.,  31.])"
      ]
     },
     "execution_count": 33,
     "metadata": {},
     "output_type": "execute_result"
    }
   ],
   "source": [
    "test_label"
   ]
  },
  {
   "cell_type": "code",
   "execution_count": 34,
   "metadata": {
    "collapsed": true
   },
   "outputs": [],
   "source": [
    "batch_size = 128\n",
    "train_iter = mx.io.NDArrayIter(train_data, train_label, batch_size, shuffle=True)\n",
    "eval_iter = mx.io.NDArrayIter(test_data, test_label, batch_size)"
   ]
  },
  {
   "cell_type": "code",
   "execution_count": 35,
   "metadata": {
    "scrolled": true
   },
   "outputs": [
    {
     "data": {
      "image/svg+xml": [
       "<?xml version=\"1.0\" encoding=\"UTF-8\" standalone=\"no\"?>\n",
       "<!DOCTYPE svg PUBLIC \"-//W3C//DTD SVG 1.1//EN\"\n",
       " \"http://www.w3.org/Graphics/SVG/1.1/DTD/svg11.dtd\">\n",
       "<!-- Generated by graphviz version 2.36.0 (20140111.2315)\n",
       " -->\n",
       "<!-- Title: plot Pages: 1 -->\n",
       "<svg width=\"214pt\" height=\"1382pt\"\n",
       " viewBox=\"0.00 0.00 214.00 1382.00\" xmlns=\"http://www.w3.org/2000/svg\" xmlns:xlink=\"http://www.w3.org/1999/xlink\">\n",
       "<g id=\"graph0\" class=\"graph\" transform=\"scale(1 1) rotate(0) translate(4 1378)\">\n",
       "<title>plot</title>\n",
       "<polygon fill=\"white\" stroke=\"none\" points=\"-4,4 -4,-1378 210,-1378 210,4 -4,4\"/>\n",
       "<!-- data -->\n",
       "<g id=\"node1\" class=\"node\"><title>data</title>\n",
       "<ellipse fill=\"#8dd3c7\" stroke=\"black\" cx=\"47\" cy=\"-29\" rx=\"47\" ry=\"29\"/>\n",
       "<text text-anchor=\"middle\" x=\"47\" y=\"-25.3\" font-family=\"Times,serif\" font-size=\"14.00\">data</text>\n",
       "</g>\n",
       "<!-- conv1 -->\n",
       "<g id=\"node2\" class=\"node\"><title>conv1</title>\n",
       "<polygon fill=\"#fb8072\" stroke=\"black\" points=\"94,-152 -7.10543e-15,-152 -7.10543e-15,-94 94,-94 94,-152\"/>\n",
       "<text text-anchor=\"middle\" x=\"47\" y=\"-126.8\" font-family=\"Times,serif\" font-size=\"14.00\">Convolution</text>\n",
       "<text text-anchor=\"middle\" x=\"47\" y=\"-111.8\" font-family=\"Times,serif\" font-size=\"14.00\">5x5/1, 20</text>\n",
       "</g>\n",
       "<!-- conv1&#45;&gt;data -->\n",
       "<g id=\"edge1\" class=\"edge\"><title>conv1&#45;&gt;data</title>\n",
       "<path fill=\"none\" stroke=\"black\" d=\"M47,-83.7443C47,-75.2043 47,-66.2977 47,-58.2479\"/>\n",
       "<polygon fill=\"black\" stroke=\"black\" points=\"47,-93.8971 42.5001,-83.897 47,-88.8971 47.0001,-83.8971 47.0001,-83.8971 47.0001,-83.8971 47,-88.8971 51.5001,-83.8971 47,-93.8971 47,-93.8971\"/>\n",
       "</g>\n",
       "<!-- batchnorm2 -->\n",
       "<g id=\"node3\" class=\"node\"><title>batchnorm2</title>\n",
       "<polygon fill=\"#bebada\" stroke=\"black\" points=\"94,-246 -7.10543e-15,-246 -7.10543e-15,-188 94,-188 94,-246\"/>\n",
       "<text text-anchor=\"middle\" x=\"47\" y=\"-213.3\" font-family=\"Times,serif\" font-size=\"14.00\">batchnorm2</text>\n",
       "</g>\n",
       "<!-- batchnorm2&#45;&gt;conv1 -->\n",
       "<g id=\"edge2\" class=\"edge\"><title>batchnorm2&#45;&gt;conv1</title>\n",
       "<path fill=\"none\" stroke=\"black\" d=\"M47,-177.744C47,-169.204 47,-160.298 47,-152.248\"/>\n",
       "<polygon fill=\"black\" stroke=\"black\" points=\"47,-187.897 42.5001,-177.897 47,-182.897 47.0001,-177.897 47.0001,-177.897 47.0001,-177.897 47,-182.897 51.5001,-177.897 47,-187.897 47,-187.897\"/>\n",
       "</g>\n",
       "<!-- activation3 -->\n",
       "<g id=\"node4\" class=\"node\"><title>activation3</title>\n",
       "<polygon fill=\"#ffffb3\" stroke=\"black\" points=\"94,-340 -7.10543e-15,-340 -7.10543e-15,-282 94,-282 94,-340\"/>\n",
       "<text text-anchor=\"middle\" x=\"47\" y=\"-314.8\" font-family=\"Times,serif\" font-size=\"14.00\">Activation</text>\n",
       "<text text-anchor=\"middle\" x=\"47\" y=\"-299.8\" font-family=\"Times,serif\" font-size=\"14.00\">relu</text>\n",
       "</g>\n",
       "<!-- activation3&#45;&gt;batchnorm2 -->\n",
       "<g id=\"edge3\" class=\"edge\"><title>activation3&#45;&gt;batchnorm2</title>\n",
       "<path fill=\"none\" stroke=\"black\" d=\"M47,-271.744C47,-263.204 47,-254.298 47,-246.248\"/>\n",
       "<polygon fill=\"black\" stroke=\"black\" points=\"47,-281.897 42.5001,-271.897 47,-276.897 47.0001,-271.897 47.0001,-271.897 47.0001,-271.897 47,-276.897 51.5001,-271.897 47,-281.897 47,-281.897\"/>\n",
       "</g>\n",
       "<!-- pooling2 -->\n",
       "<g id=\"node5\" class=\"node\"><title>pooling2</title>\n",
       "<polygon fill=\"#80b1d3\" stroke=\"black\" points=\"94,-434 -7.10543e-15,-434 -7.10543e-15,-376 94,-376 94,-434\"/>\n",
       "<text text-anchor=\"middle\" x=\"47\" y=\"-408.8\" font-family=\"Times,serif\" font-size=\"14.00\">Pooling</text>\n",
       "<text text-anchor=\"middle\" x=\"47\" y=\"-393.8\" font-family=\"Times,serif\" font-size=\"14.00\">max, 2x2/2x2</text>\n",
       "</g>\n",
       "<!-- pooling2&#45;&gt;activation3 -->\n",
       "<g id=\"edge4\" class=\"edge\"><title>pooling2&#45;&gt;activation3</title>\n",
       "<path fill=\"none\" stroke=\"black\" d=\"M47,-365.744C47,-357.204 47,-348.298 47,-340.248\"/>\n",
       "<polygon fill=\"black\" stroke=\"black\" points=\"47,-375.897 42.5001,-365.897 47,-370.897 47.0001,-365.897 47.0001,-365.897 47.0001,-365.897 47,-370.897 51.5001,-365.897 47,-375.897 47,-375.897\"/>\n",
       "</g>\n",
       "<!-- conv2 -->\n",
       "<g id=\"node6\" class=\"node\"><title>conv2</title>\n",
       "<polygon fill=\"#fb8072\" stroke=\"black\" points=\"94,-528 -7.10543e-15,-528 -7.10543e-15,-470 94,-470 94,-528\"/>\n",
       "<text text-anchor=\"middle\" x=\"47\" y=\"-502.8\" font-family=\"Times,serif\" font-size=\"14.00\">Convolution</text>\n",
       "<text text-anchor=\"middle\" x=\"47\" y=\"-487.8\" font-family=\"Times,serif\" font-size=\"14.00\">5x5/1, 50</text>\n",
       "</g>\n",
       "<!-- conv2&#45;&gt;pooling2 -->\n",
       "<g id=\"edge5\" class=\"edge\"><title>conv2&#45;&gt;pooling2</title>\n",
       "<path fill=\"none\" stroke=\"black\" d=\"M47,-459.744C47,-451.204 47,-442.298 47,-434.248\"/>\n",
       "<polygon fill=\"black\" stroke=\"black\" points=\"47,-469.897 42.5001,-459.897 47,-464.897 47.0001,-459.897 47.0001,-459.897 47.0001,-459.897 47,-464.897 51.5001,-459.897 47,-469.897 47,-469.897\"/>\n",
       "</g>\n",
       "<!-- batchnorm3 -->\n",
       "<g id=\"node7\" class=\"node\"><title>batchnorm3</title>\n",
       "<polygon fill=\"#bebada\" stroke=\"black\" points=\"94,-622 -7.10543e-15,-622 -7.10543e-15,-564 94,-564 94,-622\"/>\n",
       "<text text-anchor=\"middle\" x=\"47\" y=\"-589.3\" font-family=\"Times,serif\" font-size=\"14.00\">batchnorm3</text>\n",
       "</g>\n",
       "<!-- batchnorm3&#45;&gt;conv2 -->\n",
       "<g id=\"edge6\" class=\"edge\"><title>batchnorm3&#45;&gt;conv2</title>\n",
       "<path fill=\"none\" stroke=\"black\" d=\"M47,-553.744C47,-545.204 47,-536.298 47,-528.248\"/>\n",
       "<polygon fill=\"black\" stroke=\"black\" points=\"47,-563.897 42.5001,-553.897 47,-558.897 47.0001,-553.897 47.0001,-553.897 47.0001,-553.897 47,-558.897 51.5001,-553.897 47,-563.897 47,-563.897\"/>\n",
       "</g>\n",
       "<!-- activation4 -->\n",
       "<g id=\"node8\" class=\"node\"><title>activation4</title>\n",
       "<polygon fill=\"#ffffb3\" stroke=\"black\" points=\"94,-716 -7.10543e-15,-716 -7.10543e-15,-658 94,-658 94,-716\"/>\n",
       "<text text-anchor=\"middle\" x=\"47\" y=\"-690.8\" font-family=\"Times,serif\" font-size=\"14.00\">Activation</text>\n",
       "<text text-anchor=\"middle\" x=\"47\" y=\"-675.8\" font-family=\"Times,serif\" font-size=\"14.00\">relu</text>\n",
       "</g>\n",
       "<!-- activation4&#45;&gt;batchnorm3 -->\n",
       "<g id=\"edge7\" class=\"edge\"><title>activation4&#45;&gt;batchnorm3</title>\n",
       "<path fill=\"none\" stroke=\"black\" d=\"M47,-647.744C47,-639.204 47,-630.298 47,-622.248\"/>\n",
       "<polygon fill=\"black\" stroke=\"black\" points=\"47,-657.897 42.5001,-647.897 47,-652.897 47.0001,-647.897 47.0001,-647.897 47.0001,-647.897 47,-652.897 51.5001,-647.897 47,-657.897 47,-657.897\"/>\n",
       "</g>\n",
       "<!-- pooling3 -->\n",
       "<g id=\"node9\" class=\"node\"><title>pooling3</title>\n",
       "<polygon fill=\"#80b1d3\" stroke=\"black\" points=\"94,-810 -7.10543e-15,-810 -7.10543e-15,-752 94,-752 94,-810\"/>\n",
       "<text text-anchor=\"middle\" x=\"47\" y=\"-784.8\" font-family=\"Times,serif\" font-size=\"14.00\">Pooling</text>\n",
       "<text text-anchor=\"middle\" x=\"47\" y=\"-769.8\" font-family=\"Times,serif\" font-size=\"14.00\">max, 2x2/2x2</text>\n",
       "</g>\n",
       "<!-- pooling3&#45;&gt;activation4 -->\n",
       "<g id=\"edge8\" class=\"edge\"><title>pooling3&#45;&gt;activation4</title>\n",
       "<path fill=\"none\" stroke=\"black\" d=\"M47,-741.744C47,-733.204 47,-724.298 47,-716.248\"/>\n",
       "<polygon fill=\"black\" stroke=\"black\" points=\"47,-751.897 42.5001,-741.897 47,-746.897 47.0001,-741.897 47.0001,-741.897 47.0001,-741.897 47,-746.897 51.5001,-741.897 47,-751.897 47,-751.897\"/>\n",
       "</g>\n",
       "<!-- flatten1 -->\n",
       "<g id=\"node10\" class=\"node\"><title>flatten1</title>\n",
       "<polygon fill=\"#fdb462\" stroke=\"black\" points=\"94,-904 -7.10543e-15,-904 -7.10543e-15,-846 94,-846 94,-904\"/>\n",
       "<text text-anchor=\"middle\" x=\"47\" y=\"-871.3\" font-family=\"Times,serif\" font-size=\"14.00\">flatten1</text>\n",
       "</g>\n",
       "<!-- flatten1&#45;&gt;pooling3 -->\n",
       "<g id=\"edge9\" class=\"edge\"><title>flatten1&#45;&gt;pooling3</title>\n",
       "<path fill=\"none\" stroke=\"black\" d=\"M47,-835.744C47,-827.204 47,-818.298 47,-810.248\"/>\n",
       "<polygon fill=\"black\" stroke=\"black\" points=\"47,-845.897 42.5001,-835.897 47,-840.897 47.0001,-835.897 47.0001,-835.897 47.0001,-835.897 47,-840.897 51.5001,-835.897 47,-845.897 47,-845.897\"/>\n",
       "</g>\n",
       "<!-- fullyconnected2 -->\n",
       "<g id=\"node11\" class=\"node\"><title>fullyconnected2</title>\n",
       "<polygon fill=\"#fb8072\" stroke=\"black\" points=\"94,-998 -7.10543e-15,-998 -7.10543e-15,-940 94,-940 94,-998\"/>\n",
       "<text text-anchor=\"middle\" x=\"47\" y=\"-972.8\" font-family=\"Times,serif\" font-size=\"14.00\">FullyConnected</text>\n",
       "<text text-anchor=\"middle\" x=\"47\" y=\"-957.8\" font-family=\"Times,serif\" font-size=\"14.00\">512</text>\n",
       "</g>\n",
       "<!-- fullyconnected2&#45;&gt;flatten1 -->\n",
       "<g id=\"edge10\" class=\"edge\"><title>fullyconnected2&#45;&gt;flatten1</title>\n",
       "<path fill=\"none\" stroke=\"black\" d=\"M47,-929.744C47,-921.204 47,-912.298 47,-904.248\"/>\n",
       "<polygon fill=\"black\" stroke=\"black\" points=\"47,-939.897 42.5001,-929.897 47,-934.897 47.0001,-929.897 47.0001,-929.897 47.0001,-929.897 47,-934.897 51.5001,-929.897 47,-939.897 47,-939.897\"/>\n",
       "</g>\n",
       "<!-- activation5 -->\n",
       "<g id=\"node12\" class=\"node\"><title>activation5</title>\n",
       "<polygon fill=\"#ffffb3\" stroke=\"black\" points=\"94,-1092 -7.10543e-15,-1092 -7.10543e-15,-1034 94,-1034 94,-1092\"/>\n",
       "<text text-anchor=\"middle\" x=\"47\" y=\"-1066.8\" font-family=\"Times,serif\" font-size=\"14.00\">Activation</text>\n",
       "<text text-anchor=\"middle\" x=\"47\" y=\"-1051.8\" font-family=\"Times,serif\" font-size=\"14.00\">relu</text>\n",
       "</g>\n",
       "<!-- activation5&#45;&gt;fullyconnected2 -->\n",
       "<g id=\"edge11\" class=\"edge\"><title>activation5&#45;&gt;fullyconnected2</title>\n",
       "<path fill=\"none\" stroke=\"black\" d=\"M47,-1023.74C47,-1015.2 47,-1006.3 47,-998.248\"/>\n",
       "<polygon fill=\"black\" stroke=\"black\" points=\"47,-1033.9 42.5001,-1023.9 47,-1028.9 47.0001,-1023.9 47.0001,-1023.9 47.0001,-1023.9 47,-1028.9 51.5001,-1023.9 47,-1033.9 47,-1033.9\"/>\n",
       "</g>\n",
       "<!-- dropout1 -->\n",
       "<g id=\"node13\" class=\"node\"><title>dropout1</title>\n",
       "<polygon fill=\"#fccde5\" stroke=\"black\" points=\"94,-1186 -7.10543e-15,-1186 -7.10543e-15,-1128 94,-1128 94,-1186\"/>\n",
       "<text text-anchor=\"middle\" x=\"47\" y=\"-1153.3\" font-family=\"Times,serif\" font-size=\"14.00\">dropout1</text>\n",
       "</g>\n",
       "<!-- dropout1&#45;&gt;activation5 -->\n",
       "<g id=\"edge12\" class=\"edge\"><title>dropout1&#45;&gt;activation5</title>\n",
       "<path fill=\"none\" stroke=\"black\" d=\"M47,-1117.74C47,-1109.2 47,-1100.3 47,-1092.25\"/>\n",
       "<polygon fill=\"black\" stroke=\"black\" points=\"47,-1127.9 42.5001,-1117.9 47,-1122.9 47.0001,-1117.9 47.0001,-1117.9 47.0001,-1117.9 47,-1122.9 51.5001,-1117.9 47,-1127.9 47,-1127.9\"/>\n",
       "</g>\n",
       "<!-- fullyconnected3 -->\n",
       "<g id=\"node14\" class=\"node\"><title>fullyconnected3</title>\n",
       "<polygon fill=\"#fb8072\" stroke=\"black\" points=\"94,-1280 -7.10543e-15,-1280 -7.10543e-15,-1222 94,-1222 94,-1280\"/>\n",
       "<text text-anchor=\"middle\" x=\"47\" y=\"-1254.8\" font-family=\"Times,serif\" font-size=\"14.00\">FullyConnected</text>\n",
       "<text text-anchor=\"middle\" x=\"47\" y=\"-1239.8\" font-family=\"Times,serif\" font-size=\"14.00\">40</text>\n",
       "</g>\n",
       "<!-- fullyconnected3&#45;&gt;dropout1 -->\n",
       "<g id=\"edge13\" class=\"edge\"><title>fullyconnected3&#45;&gt;dropout1</title>\n",
       "<path fill=\"none\" stroke=\"black\" d=\"M47,-1211.74C47,-1203.2 47,-1194.3 47,-1186.25\"/>\n",
       "<polygon fill=\"black\" stroke=\"black\" points=\"47,-1221.9 42.5001,-1211.9 47,-1216.9 47.0001,-1211.9 47.0001,-1211.9 47.0001,-1211.9 47,-1216.9 51.5001,-1211.9 47,-1221.9 47,-1221.9\"/>\n",
       "</g>\n",
       "<!-- softmax_label -->\n",
       "<g id=\"node15\" class=\"node\"><title>softmax_label</title>\n",
       "<ellipse fill=\"#8dd3c7\" stroke=\"black\" cx=\"159\" cy=\"-1251\" rx=\"47\" ry=\"29\"/>\n",
       "<text text-anchor=\"middle\" x=\"159\" y=\"-1247.3\" font-family=\"Times,serif\" font-size=\"14.00\">softmax_label</text>\n",
       "</g>\n",
       "<!-- softmax -->\n",
       "<g id=\"node16\" class=\"node\"><title>softmax</title>\n",
       "<polygon fill=\"#fccde5\" stroke=\"black\" points=\"150,-1374 56,-1374 56,-1316 150,-1316 150,-1374\"/>\n",
       "<text text-anchor=\"middle\" x=\"103\" y=\"-1341.3\" font-family=\"Times,serif\" font-size=\"14.00\">softmax</text>\n",
       "</g>\n",
       "<!-- softmax&#45;&gt;fullyconnected3 -->\n",
       "<g id=\"edge14\" class=\"edge\"><title>softmax&#45;&gt;fullyconnected3</title>\n",
       "<path fill=\"none\" stroke=\"black\" d=\"M80.5686,-1307.15C75.113,-1298.19 69.3635,-1288.74 64.1943,-1280.25\"/>\n",
       "<polygon fill=\"black\" stroke=\"black\" points=\"85.8939,-1315.9 76.8505,-1309.69 83.2941,-1311.63 80.6944,-1307.36 80.6944,-1307.36 80.6944,-1307.36 83.2941,-1311.63 84.5383,-1305.02 85.8939,-1315.9 85.8939,-1315.9\"/>\n",
       "</g>\n",
       "<!-- softmax&#45;&gt;softmax_label -->\n",
       "<g id=\"edge15\" class=\"edge\"><title>softmax&#45;&gt;softmax_label</title>\n",
       "<path fill=\"none\" stroke=\"black\" d=\"M125.377,-1307.24C131.257,-1297.58 137.481,-1287.35 142.955,-1278.36\"/>\n",
       "<polygon fill=\"black\" stroke=\"black\" points=\"120.106,-1315.9 121.462,-1305.02 122.706,-1311.63 125.306,-1307.36 125.306,-1307.36 125.306,-1307.36 122.706,-1311.63 129.15,-1309.69 120.106,-1315.9 120.106,-1315.9\"/>\n",
       "</g>\n",
       "</g>\n",
       "</svg>\n"
      ],
      "text/plain": [
       "<graphviz.dot.Digraph at 0x7f8efc27c210>"
      ]
     },
     "execution_count": 35,
     "metadata": {},
     "output_type": "execute_result"
    }
   ],
   "source": [
    "data = mx.sym.var('data')\n",
    "\n",
    "conv1 = mx.sym.Convolution(data=data, kernel=(5,5), num_filter=20, name='conv1')\n",
    "bn1 = mx.sym.BatchNorm(conv1, fix_gamma=True)\n",
    "tanh1 = mx.sym.Activation(data=bn1, act_type='relu')\n",
    "pool1 = mx.sym.Pooling(data=tanh1, pool_type='max', kernel=(2,2), stride=(2,2))\n",
    "\n",
    "conv2 = mx.sym.Convolution(data=pool1, kernel=(5,5), num_filter=50, name='conv2')\n",
    "bn2 = mx.sym.BatchNorm(conv2, fix_gamma=True)\n",
    "tanh2 = mx.sym.Activation(data=bn2, act_type='relu')\n",
    "pool2 = mx.sym.Pooling(data=tanh2, pool_type='max', kernel=(2,2), stride=(2,2))\n",
    "\n",
    "flat = mx.sym.flatten(data=pool2)\n",
    "fc1 = mx.sym.FullyConnected(data=flat, num_hidden=512)\n",
    "tanh3 = mx.sym.Activation(data=fc1, act_type='relu')\n",
    "\n",
    "drop = mx.symbol.Dropout(tanh3, p=0.5)\n",
    "fc2 = mx.sym.FullyConnected(data=drop, num_hidden=num_class)\n",
    "\n",
    "convnet = mx.sym.SoftmaxOutput(data=fc2, name='softmax')\n",
    "\n",
    "mx.viz.plot_network(convnet)"
   ]
  },
  {
   "cell_type": "code",
   "execution_count": 36,
   "metadata": {
    "collapsed": true
   },
   "outputs": [],
   "source": [
    "model = mx.mod.Module(symbol=convnet, context=mx.gpu())"
   ]
  },
  {
   "cell_type": "code",
   "execution_count": 37,
   "metadata": {
    "collapsed": true
   },
   "outputs": [],
   "source": [
    "model.bind(data_shapes=train_iter.provide_data, label_shapes=train_iter.provide_label)\n",
    "model.init_params(initializer=mx.init.Uniform(scale=.01))\n",
    "model.init_optimizer(optimizer='sgd', optimizer_params={'learning_rate':0.001, 'wd': 0.001})\n",
    "\n",
    "metric = mx.metric.Accuracy()"
   ]
  },
  {
   "cell_type": "code",
   "execution_count": 38,
   "metadata": {
    "scrolled": true
   },
   "outputs": [
    {
     "name": "stderr",
     "output_type": "stream",
     "text": [
      "INFO:root:Saved checkpoint to \"models/chkpt-0000.params\"\n"
     ]
    },
    {
     "name": "stdout",
     "output_type": "stream",
     "text": [
      "Epoch 0, Training ('accuracy', 0.04813508064516129), Time 1.24\n",
      "Epoch 1, Training ('accuracy', 0.06703629032258064), Time 1.18\n",
      "Epoch 2, Training ('accuracy', 0.07888104838709678), Time 1.16\n",
      "Epoch 3, Training ('accuracy', 0.08366935483870967), Time 1.09\n",
      "Epoch 4, Training ('accuracy', 0.08190524193548387), Time 1.13\n",
      "Epoch 5, Training ('accuracy', 0.0924899193548387), Time 1.10\n",
      "Epoch 6, Training ('accuracy', 0.08870967741935484), Time 1.09\n",
      "Epoch 7, Training ('accuracy', 0.09400201612903226), Time 1.09\n",
      "Epoch 8, Training ('accuracy', 0.09954637096774194), Time 1.09\n",
      "Epoch 9, Training ('accuracy', 0.10786290322580645), Time 1.15\n",
      "Epoch 10, Training ('accuracy', 0.11668346774193548), Time 1.13\n",
      "Epoch 11, Training ('accuracy', 0.1280241935483871), Time 1.18\n",
      "Epoch 12, Training ('accuracy', 0.12701612903225806), Time 1.13\n",
      "Epoch 13, Training ('accuracy', 0.1509576612903226), Time 1.09\n",
      "Epoch 14, Training ('accuracy', 0.1484375), Time 1.20\n",
      "Epoch 15, Training ('accuracy', 0.1665826612903226), Time 1.20\n",
      "Epoch 16, Training ('accuracy', 0.1849798387096774), Time 1.13\n",
      "Epoch 17, Training ('accuracy', 0.1922883064516129), Time 1.22\n",
      "Epoch 18, Training ('accuracy', 0.20438508064516128), Time 1.20\n",
      "Epoch 19, Training ('accuracy', 0.23286290322580644), Time 1.09\n",
      "Epoch 20, Training ('accuracy', 0.23412298387096775), Time 1.08\n",
      "Epoch 21, Training ('accuracy', 0.26461693548387094), Time 1.08\n",
      "Epoch 22, Training ('accuracy', 0.2855342741935484), Time 1.09\n",
      "Epoch 23, Training ('accuracy', 0.2935987903225806), Time 1.14\n",
      "Epoch 24, Training ('accuracy', 0.30393145161290325), Time 1.09\n",
      "Epoch 25, Training ('accuracy', 0.32711693548387094), Time 1.13\n",
      "Epoch 26, Training ('accuracy', 0.3543346774193548), Time 1.09\n",
      "Epoch 27, Training ('accuracy', 0.3588709677419355), Time 1.09\n",
      "Epoch 28, Training ('accuracy', 0.39213709677419356), Time 1.14\n",
      "Epoch 29, Training ('accuracy', 0.4039818548387097), Time 1.10\n"
     ]
    },
    {
     "name": "stderr",
     "output_type": "stream",
     "text": [
      "INFO:root:Saved checkpoint to \"models/chkpt-0030.params\"\n"
     ]
    },
    {
     "name": "stdout",
     "output_type": "stream",
     "text": [
      "Epoch 30, Training ('accuracy', 0.4180947580645161), Time 1.19\n",
      "Epoch 31, Training ('accuracy', 0.4415322580645161), Time 1.08\n",
      "Epoch 32, Training ('accuracy', 0.4710181451612903), Time 1.19\n",
      "Epoch 33, Training ('accuracy', 0.4808467741935484), Time 1.10\n",
      "Epoch 34, Training ('accuracy', 0.49243951612903225), Time 1.11\n",
      "Epoch 35, Training ('accuracy', 0.5279737903225806), Time 1.09\n",
      "Epoch 36, Training ('accuracy', 0.5254536290322581), Time 1.13\n",
      "Epoch 37, Training ('accuracy', 0.5433467741935484), Time 1.15\n",
      "Epoch 38, Training ('accuracy', 0.5622479838709677), Time 1.10\n",
      "Epoch 39, Training ('accuracy', 0.5758568548387096), Time 1.09\n",
      "Epoch 40, Training ('accuracy', 0.5776209677419355), Time 1.08\n",
      "Epoch 41, Training ('accuracy', 0.5914818548387096), Time 1.09\n",
      "Epoch 42, Training ('accuracy', 0.6199596774193549), Time 1.09\n",
      "Epoch 43, Training ('accuracy', 0.6197076612903226), Time 1.09\n",
      "Epoch 44, Training ('accuracy', 0.6411290322580645), Time 1.09\n",
      "Epoch 45, Training ('accuracy', 0.6403729838709677), Time 1.09\n",
      "Epoch 46, Training ('accuracy', 0.6638104838709677), Time 1.13\n",
      "Epoch 47, Training ('accuracy', 0.6615423387096774), Time 1.15\n",
      "Epoch 48, Training ('accuracy', 0.6852318548387096), Time 1.19\n",
      "Epoch 49, Training ('accuracy', 0.6832157258064516), Time 1.19\n",
      "Epoch 50, Training ('accuracy', 0.6978326612903226), Time 1.21\n",
      "Epoch 51, Training ('accuracy', 0.7028729838709677), Time 1.10\n",
      "Epoch 52, Training ('accuracy', 0.7137096774193549), Time 1.16\n",
      "Epoch 53, Training ('accuracy', 0.7207661290322581), Time 1.13\n",
      "Epoch 54, Training ('accuracy', 0.7348790322580645), Time 1.17\n",
      "Epoch 55, Training ('accuracy', 0.7452116935483871), Time 1.14\n",
      "Epoch 56, Training ('accuracy', 0.7389112903225806), Time 1.09\n",
      "Epoch 57, Training ('accuracy', 0.7565524193548387), Time 1.14\n",
      "Epoch 58, Training ('accuracy', 0.7699092741935484), Time 1.15\n",
      "Epoch 59, Training ('accuracy', 0.7749495967741935), Time 1.15\n"
     ]
    },
    {
     "name": "stderr",
     "output_type": "stream",
     "text": [
      "INFO:root:Saved checkpoint to \"models/chkpt-0060.params\"\n"
     ]
    },
    {
     "name": "stdout",
     "output_type": "stream",
     "text": [
      "Epoch 60, Training ('accuracy', 0.7731854838709677), Time 1.21\n",
      "Epoch 61, Training ('accuracy', 0.7764616935483871), Time 1.07\n",
      "Epoch 62, Training ('accuracy', 0.7852822580645161), Time 1.11\n",
      "Epoch 63, Training ('accuracy', 0.8067036290322581), Time 1.11\n",
      "Epoch 64, Training ('accuracy', 0.8039314516129032), Time 1.10\n",
      "Epoch 65, Training ('accuracy', 0.8054435483870968), Time 1.10\n",
      "Epoch 66, Training ('accuracy', 0.8145161290322581), Time 1.09\n",
      "Epoch 67, Training ('accuracy', 0.8248487903225806), Time 1.13\n",
      "Epoch 68, Training ('accuracy', 0.8288810483870968), Time 1.10\n",
      "Epoch 69, Training ('accuracy', 0.8361895161290323), Time 1.09\n",
      "Epoch 70, Training ('accuracy', 0.8296370967741935), Time 1.10\n",
      "Epoch 71, Training ('accuracy', 0.8382056451612904), Time 1.11\n",
      "Epoch 72, Training ('accuracy', 0.842741935483871), Time 1.14\n",
      "Epoch 73, Training ('accuracy', 0.8576108870967742), Time 1.12\n",
      "Epoch 74, Training ('accuracy', 0.8508064516129032), Time 1.17\n",
      "Epoch 75, Training ('accuracy', 0.850554435483871), Time 1.12\n",
      "Epoch 76, Training ('accuracy', 0.8659274193548387), Time 1.12\n",
      "Epoch 77, Training ('accuracy', 0.8596270161290323), Time 1.14\n",
      "Epoch 78, Training ('accuracy', 0.8694556451612904), Time 1.21\n",
      "Epoch 79, Training ('accuracy', 0.8656754032258065), Time 1.10\n",
      "Epoch 80, Training ('accuracy', 0.8775201612903226), Time 1.10\n",
      "Epoch 81, Training ('accuracy', 0.8807963709677419), Time 1.09\n",
      "Epoch 82, Training ('accuracy', 0.8757560483870968), Time 1.09\n",
      "Epoch 83, Training ('accuracy', 0.8797883064516129), Time 1.09\n",
      "Epoch 84, Training ('accuracy', 0.8828125), Time 1.09\n",
      "Epoch 85, Training ('accuracy', 0.8835685483870968), Time 1.10\n",
      "Epoch 86, Training ('accuracy', 0.8881048387096774), Time 1.13\n",
      "Epoch 87, Training ('accuracy', 0.8931451612903226), Time 1.09\n",
      "Epoch 88, Training ('accuracy', 0.8949092741935484), Time 1.09\n",
      "Epoch 89, Training ('accuracy', 0.8881048387096774), Time 1.09\n"
     ]
    },
    {
     "name": "stderr",
     "output_type": "stream",
     "text": [
      "INFO:root:Saved checkpoint to \"models/chkpt-0090.params\"\n"
     ]
    },
    {
     "name": "stdout",
     "output_type": "stream",
     "text": [
      "Epoch 90, Training ('accuracy', 0.8969254032258065), Time 1.16\n",
      "Epoch 91, Training ('accuracy', 0.8984375), Time 1.15\n",
      "Epoch 92, Training ('accuracy', 0.9007056451612904), Time 1.11\n",
      "Epoch 93, Training ('accuracy', 0.9070060483870968), Time 1.13\n",
      "Epoch 94, Training ('accuracy', 0.9082661290322581), Time 1.15\n",
      "Epoch 95, Training ('accuracy', 0.907258064516129), Time 1.13\n",
      "Epoch 96, Training ('accuracy', 0.9042338709677419), Time 1.15\n",
      "Epoch 97, Training ('accuracy', 0.9077620967741935), Time 1.09\n",
      "Epoch 98, Training ('accuracy', 0.9185987903225806), Time 1.09\n",
      "Epoch 99, Training ('accuracy', 0.9112903225806451), Time 1.10\n",
      "Epoch 100, Training ('accuracy', 0.9115423387096774), Time 1.09\n",
      "Epoch 101, Training ('accuracy', 0.9238911290322581), Time 1.09\n",
      "Epoch 102, Training ('accuracy', 0.9180947580645161), Time 1.09\n",
      "Epoch 103, Training ('accuracy', 0.9213709677419355), Time 1.11\n",
      "Epoch 104, Training ('accuracy', 0.9168346774193549), Time 1.09\n",
      "Epoch 105, Training ('accuracy', 0.9213709677419355), Time 1.15\n",
      "Epoch 106, Training ('accuracy', 0.9198588709677419), Time 1.13\n",
      "Epoch 107, Training ('accuracy', 0.9309475806451613), Time 1.10\n",
      "Epoch 108, Training ('accuracy', 0.9254032258064516), Time 1.09\n",
      "Epoch 109, Training ('accuracy', 0.9259072580645161), Time 1.10\n",
      "Epoch 110, Training ('accuracy', 0.9299395161290323), Time 1.10\n",
      "Epoch 111, Training ('accuracy', 0.9261592741935484), Time 1.11\n",
      "Epoch 112, Training ('accuracy', 0.930695564516129), Time 1.09\n",
      "Epoch 113, Training ('accuracy', 0.9357358870967742), Time 1.09\n",
      "Epoch 114, Training ('accuracy', 0.9354838709677419), Time 1.18\n",
      "Epoch 115, Training ('accuracy', 0.9392641129032258), Time 1.13\n",
      "Epoch 116, Training ('accuracy', 0.9357358870967742), Time 1.12\n",
      "Epoch 117, Training ('accuracy', 0.944304435483871), Time 1.09\n",
      "Epoch 118, Training ('accuracy', 0.9362399193548387), Time 1.09\n",
      "Epoch 119, Training ('accuracy', 0.9395161290322581), Time 1.09\n"
     ]
    },
    {
     "name": "stderr",
     "output_type": "stream",
     "text": [
      "INFO:root:Saved checkpoint to \"models/chkpt-0120.params\"\n"
     ]
    },
    {
     "name": "stdout",
     "output_type": "stream",
     "text": [
      "Epoch 120, Training ('accuracy', 0.9397681451612904), Time 1.21\n",
      "Epoch 121, Training ('accuracy', 0.9402721774193549), Time 1.09\n",
      "Epoch 122, Training ('accuracy', 0.9400201612903226), Time 1.09\n",
      "Epoch 123, Training ('accuracy', 0.9435483870967742), Time 1.09\n",
      "Epoch 124, Training ('accuracy', 0.9430443548387096), Time 1.09\n",
      "Epoch 125, Training ('accuracy', 0.9475806451612904), Time 1.20\n",
      "Epoch 126, Training ('accuracy', 0.9438004032258065), Time 1.17\n",
      "Epoch 127, Training ('accuracy', 0.9501008064516129), Time 1.13\n",
      "Epoch 128, Training ('accuracy', 0.944304435483871), Time 1.12\n",
      "Epoch 129, Training ('accuracy', 0.9488407258064516), Time 1.10\n",
      "Epoch 130, Training ('accuracy', 0.9478326612903226), Time 1.10\n",
      "Epoch 131, Training ('accuracy', 0.9495967741935484), Time 1.10\n",
      "Epoch 132, Training ('accuracy', 0.9513608870967742), Time 1.10\n",
      "Epoch 133, Training ('accuracy', 0.9468245967741935), Time 1.10\n",
      "Epoch 134, Training ('accuracy', 0.9516129032258065), Time 1.13\n",
      "Epoch 135, Training ('accuracy', 0.9506048387096774), Time 1.22\n",
      "Epoch 136, Training ('accuracy', 0.9558971774193549), Time 1.13\n",
      "Epoch 137, Training ('accuracy', 0.9574092741935484), Time 1.10\n",
      "Epoch 138, Training ('accuracy', 0.9506048387096774), Time 1.10\n",
      "Epoch 139, Training ('accuracy', 0.9536290322580645), Time 1.13\n",
      "Epoch 140, Training ('accuracy', 0.9581653225806451), Time 1.09\n",
      "Epoch 141, Training ('accuracy', 0.9526209677419355), Time 1.14\n",
      "Epoch 142, Training ('accuracy', 0.9551411290322581), Time 1.21\n",
      "Epoch 143, Training ('accuracy', 0.9516129032258065), Time 1.11\n",
      "Epoch 144, Training ('accuracy', 0.9576612903225806), Time 1.14\n",
      "Epoch 145, Training ('accuracy', 0.9543850806451613), Time 1.13\n",
      "Epoch 146, Training ('accuracy', 0.9556451612903226), Time 1.10\n",
      "Epoch 147, Training ('accuracy', 0.9553931451612904), Time 1.09\n",
      "Epoch 148, Training ('accuracy', 0.9584173387096774), Time 1.10\n",
      "Epoch 149, Training ('accuracy', 0.9604334677419355), Time 1.10\n"
     ]
    },
    {
     "name": "stderr",
     "output_type": "stream",
     "text": [
      "INFO:root:Saved checkpoint to \"models/chkpt-0150.params\"\n"
     ]
    },
    {
     "name": "stdout",
     "output_type": "stream",
     "text": [
      "Epoch 150, Training ('accuracy', 0.9584173387096774), Time 1.25\n",
      "Epoch 151, Training ('accuracy', 0.9606854838709677), Time 1.16\n",
      "Epoch 152, Training ('accuracy', 0.961945564516129), Time 1.10\n",
      "Epoch 153, Training ('accuracy', 0.9639616935483871), Time 1.09\n",
      "Epoch 154, Training ('accuracy', 0.9611895161290323), Time 1.10\n",
      "Epoch 155, Training ('accuracy', 0.9614415322580645), Time 1.10\n",
      "Epoch 156, Training ('accuracy', 0.9601814516129032), Time 1.10\n",
      "Epoch 157, Training ('accuracy', 0.9632056451612904), Time 1.10\n",
      "Epoch 158, Training ('accuracy', 0.9647177419354839), Time 1.10\n",
      "Epoch 159, Training ('accuracy', 0.9647177419354839), Time 1.10\n",
      "Epoch 160, Training ('accuracy', 0.9659778225806451), Time 1.13\n",
      "Epoch 161, Training ('accuracy', 0.961945564516129), Time 1.16\n",
      "Epoch 162, Training ('accuracy', 0.9664818548387096), Time 1.21\n",
      "Epoch 163, Training ('accuracy', 0.9639616935483871), Time 1.15\n",
      "Epoch 164, Training ('accuracy', 0.9624495967741935), Time 1.10\n",
      "Epoch 165, Training ('accuracy', 0.9644657258064516), Time 1.10\n",
      "Epoch 166, Training ('accuracy', 0.9614415322580645), Time 1.11\n",
      "Epoch 167, Training ('accuracy', 0.9684979838709677), Time 1.09\n",
      "Epoch 168, Training ('accuracy', 0.9672379032258065), Time 1.10\n",
      "Epoch 169, Training ('accuracy', 0.9667338709677419), Time 1.10\n",
      "Epoch 170, Training ('accuracy', 0.9682459677419355), Time 1.11\n",
      "Epoch 171, Training ('accuracy', 0.9639616935483871), Time 1.11\n",
      "Epoch 172, Training ('accuracy', 0.9679939516129032), Time 1.10\n",
      "Epoch 173, Training ('accuracy', 0.9692540322580645), Time 1.10\n",
      "Epoch 174, Training ('accuracy', 0.9730342741935484), Time 1.10\n",
      "Epoch 175, Training ('accuracy', 0.96875), Time 1.10\n",
      "Epoch 176, Training ('accuracy', 0.9652217741935484), Time 1.10\n",
      "Epoch 177, Training ('accuracy', 0.9654737903225806), Time 1.12\n",
      "Epoch 178, Training ('accuracy', 0.9720262096774194), Time 1.10\n",
      "Epoch 179, Training ('accuracy', 0.969758064516129), Time 1.10\n"
     ]
    },
    {
     "name": "stderr",
     "output_type": "stream",
     "text": [
      "INFO:root:Saved checkpoint to \"models/chkpt-0180.params\"\n"
     ]
    },
    {
     "name": "stdout",
     "output_type": "stream",
     "text": [
      "Epoch 180, Training ('accuracy', 0.9740423387096774), Time 1.15\n",
      "Epoch 181, Training ('accuracy', 0.9717741935483871), Time 1.08\n",
      "Epoch 182, Training ('accuracy', 0.9725302419354839), Time 1.10\n",
      "Epoch 183, Training ('accuracy', 0.9727822580645161), Time 1.10\n",
      "Epoch 184, Training ('accuracy', 0.9720262096774194), Time 1.10\n",
      "Epoch 185, Training ('accuracy', 0.9715221774193549), Time 1.11\n",
      "Epoch 186, Training ('accuracy', 0.9747983870967742), Time 1.10\n",
      "Epoch 187, Training ('accuracy', 0.9750504032258065), Time 1.09\n",
      "Epoch 188, Training ('accuracy', 0.9700100806451613), Time 1.10\n",
      "Epoch 189, Training ('accuracy', 0.9742943548387096), Time 1.09\n",
      "Epoch 190, Training ('accuracy', 0.9737903225806451), Time 1.10\n",
      "Epoch 191, Training ('accuracy', 0.9745463709677419), Time 1.10\n",
      "Epoch 192, Training ('accuracy', 0.9735383064516129), Time 1.10\n",
      "Epoch 193, Training ('accuracy', 0.9770665322580645), Time 1.10\n",
      "Epoch 194, Training ('accuracy', 0.9758064516129032), Time 1.11\n",
      "Epoch 195, Training ('accuracy', 0.9730342741935484), Time 1.10\n",
      "Epoch 196, Training ('accuracy', 0.9765625), Time 1.10\n",
      "Epoch 197, Training ('accuracy', 0.9770665322580645), Time 1.11\n",
      "Epoch 198, Training ('accuracy', 0.9735383064516129), Time 1.11\n",
      "Epoch 199, Training ('accuracy', 0.977570564516129), Time 1.11\n",
      "Epoch 200, Training ('accuracy', 0.9795866935483871), Time 1.10\n",
      "Epoch 201, Training ('accuracy', 0.975554435483871), Time 1.10\n",
      "Epoch 202, Training ('accuracy', 0.9758064516129032), Time 1.10\n",
      "Epoch 203, Training ('accuracy', 0.9753024193548387), Time 1.10\n",
      "Epoch 204, Training ('accuracy', 0.9793346774193549), Time 1.10\n",
      "Epoch 205, Training ('accuracy', 0.9747983870967742), Time 1.10\n",
      "Epoch 206, Training ('accuracy', 0.9758064516129032), Time 1.10\n",
      "Epoch 207, Training ('accuracy', 0.9765625), Time 1.10\n",
      "Epoch 208, Training ('accuracy', 0.9798387096774194), Time 1.11\n",
      "Epoch 209, Training ('accuracy', 0.9808467741935484), Time 1.10\n"
     ]
    },
    {
     "name": "stderr",
     "output_type": "stream",
     "text": [
      "INFO:root:Saved checkpoint to \"models/chkpt-0210.params\"\n"
     ]
    },
    {
     "name": "stdout",
     "output_type": "stream",
     "text": [
      "Epoch 210, Training ('accuracy', 0.9765625), Time 1.14\n",
      "Epoch 211, Training ('accuracy', 0.9778225806451613), Time 1.09\n",
      "Epoch 212, Training ('accuracy', 0.9770665322580645), Time 1.10\n",
      "Epoch 213, Training ('accuracy', 0.9795866935483871), Time 1.10\n",
      "Epoch 214, Training ('accuracy', 0.9813508064516129), Time 1.11\n",
      "Epoch 215, Training ('accuracy', 0.9790826612903226), Time 1.10\n",
      "Epoch 216, Training ('accuracy', 0.9793346774193549), Time 1.10\n",
      "Epoch 217, Training ('accuracy', 0.9740423387096774), Time 1.11\n",
      "Epoch 218, Training ('accuracy', 0.9803427419354839), Time 1.10\n",
      "Epoch 219, Training ('accuracy', 0.9793346774193549), Time 1.13\n",
      "Epoch 220, Training ('accuracy', 0.9790826612903226), Time 1.10\n",
      "Epoch 221, Training ('accuracy', 0.9810987903225806), Time 1.10\n",
      "Epoch 222, Training ('accuracy', 0.9818548387096774), Time 1.10\n",
      "Epoch 223, Training ('accuracy', 0.9795866935483871), Time 1.10\n",
      "Epoch 224, Training ('accuracy', 0.9813508064516129), Time 1.10\n",
      "Epoch 225, Training ('accuracy', 0.9805947580645161), Time 1.11\n",
      "Epoch 226, Training ('accuracy', 0.9823588709677419), Time 1.10\n",
      "Epoch 227, Training ('accuracy', 0.9810987903225806), Time 1.11\n",
      "Epoch 228, Training ('accuracy', 0.9798387096774194), Time 1.10\n",
      "Epoch 229, Training ('accuracy', 0.9831149193548387), Time 1.09\n",
      "Epoch 230, Training ('accuracy', 0.9823588709677419), Time 1.09\n",
      "Epoch 231, Training ('accuracy', 0.9821068548387096), Time 1.10\n",
      "Epoch 232, Training ('accuracy', 0.983366935483871), Time 1.09\n",
      "Epoch 233, Training ('accuracy', 0.9808467741935484), Time 1.10\n",
      "Epoch 234, Training ('accuracy', 0.9798387096774194), Time 1.10\n",
      "Epoch 235, Training ('accuracy', 0.9798387096774194), Time 1.10\n",
      "Epoch 236, Training ('accuracy', 0.9831149193548387), Time 1.10\n",
      "Epoch 237, Training ('accuracy', 0.9836189516129032), Time 1.10\n",
      "Epoch 238, Training ('accuracy', 0.9795866935483871), Time 1.10\n",
      "Epoch 239, Training ('accuracy', 0.9838709677419355), Time 1.10\n"
     ]
    },
    {
     "name": "stderr",
     "output_type": "stream",
     "text": [
      "INFO:root:Saved checkpoint to \"models/chkpt-0240.params\"\n"
     ]
    },
    {
     "name": "stdout",
     "output_type": "stream",
     "text": [
      "Epoch 240, Training ('accuracy', 0.9813508064516129), Time 1.15\n",
      "Epoch 241, Training ('accuracy', 0.9805947580645161), Time 1.09\n",
      "Epoch 242, Training ('accuracy', 0.9846270161290323), Time 1.10\n",
      "Epoch 243, Training ('accuracy', 0.9823588709677419), Time 1.11\n",
      "Epoch 244, Training ('accuracy', 0.9831149193548387), Time 1.13\n",
      "Epoch 245, Training ('accuracy', 0.9848790322580645), Time 1.21\n",
      "Epoch 246, Training ('accuracy', 0.9823588709677419), Time 1.16\n",
      "Epoch 247, Training ('accuracy', 0.9868951612903226), Time 1.16\n",
      "Epoch 248, Training ('accuracy', 0.9846270161290323), Time 1.20\n",
      "Epoch 249, Training ('accuracy', 0.984375), Time 1.14\n",
      "Epoch 250, Training ('accuracy', 0.9838709677419355), Time 1.13\n",
      "Epoch 251, Training ('accuracy', 0.9810987903225806), Time 1.19\n",
      "Epoch 252, Training ('accuracy', 0.9856350806451613), Time 1.13\n",
      "Epoch 253, Training ('accuracy', 0.9851310483870968), Time 1.15\n",
      "Epoch 254, Training ('accuracy', 0.9826108870967742), Time 1.10\n",
      "Epoch 255, Training ('accuracy', 0.9838709677419355), Time 1.09\n",
      "Epoch 256, Training ('accuracy', 0.9828629032258065), Time 1.15\n",
      "Epoch 257, Training ('accuracy', 0.9841229838709677), Time 1.16\n",
      "Epoch 258, Training ('accuracy', 0.9856350806451613), Time 1.10\n",
      "Epoch 259, Training ('accuracy', 0.985383064516129), Time 1.11\n",
      "Epoch 260, Training ('accuracy', 0.9841229838709677), Time 1.10\n",
      "Epoch 261, Training ('accuracy', 0.9838709677419355), Time 1.15\n",
      "Epoch 262, Training ('accuracy', 0.9846270161290323), Time 1.11\n",
      "Epoch 263, Training ('accuracy', 0.9848790322580645), Time 1.11\n",
      "Epoch 264, Training ('accuracy', 0.9848790322580645), Time 1.11\n",
      "Epoch 265, Training ('accuracy', 0.9856350806451613), Time 1.09\n",
      "Epoch 266, Training ('accuracy', 0.9863911290322581), Time 1.09\n",
      "Epoch 267, Training ('accuracy', 0.9841229838709677), Time 1.09\n",
      "Epoch 268, Training ('accuracy', 0.985383064516129), Time 1.09\n",
      "Epoch 269, Training ('accuracy', 0.9873991935483871), Time 1.09\n"
     ]
    },
    {
     "name": "stderr",
     "output_type": "stream",
     "text": [
      "INFO:root:Saved checkpoint to \"models/chkpt-0270.params\"\n"
     ]
    },
    {
     "name": "stdout",
     "output_type": "stream",
     "text": [
      "Epoch 270, Training ('accuracy', 0.9846270161290323), Time 1.13\n",
      "Epoch 271, Training ('accuracy', 0.9848790322580645), Time 1.07\n",
      "Epoch 272, Training ('accuracy', 0.9863911290322581), Time 1.09\n",
      "Epoch 273, Training ('accuracy', 0.9856350806451613), Time 1.09\n",
      "Epoch 274, Training ('accuracy', 0.9856350806451613), Time 1.10\n",
      "Epoch 275, Training ('accuracy', 0.9876512096774194), Time 1.09\n",
      "Epoch 276, Training ('accuracy', 0.9894153225806451), Time 1.10\n",
      "Epoch 277, Training ('accuracy', 0.9879032258064516), Time 1.10\n",
      "Epoch 278, Training ('accuracy', 0.9856350806451613), Time 1.10\n",
      "Epoch 279, Training ('accuracy', 0.9879032258064516), Time 1.10\n",
      "Epoch 280, Training ('accuracy', 0.9873991935483871), Time 1.11\n",
      "Epoch 281, Training ('accuracy', 0.9851310483870968), Time 1.12\n",
      "Epoch 282, Training ('accuracy', 0.9866431451612904), Time 1.14\n",
      "Epoch 283, Training ('accuracy', 0.9889112903225806), Time 1.14\n",
      "Epoch 284, Training ('accuracy', 0.9879032258064516), Time 1.17\n",
      "Epoch 285, Training ('accuracy', 0.9873991935483871), Time 1.09\n",
      "Epoch 286, Training ('accuracy', 0.9868951612903226), Time 1.10\n",
      "Epoch 287, Training ('accuracy', 0.9831149193548387), Time 1.09\n",
      "Epoch 288, Training ('accuracy', 0.9891633064516129), Time 1.09\n",
      "Epoch 289, Training ('accuracy', 0.9858870967741935), Time 1.10\n",
      "Epoch 290, Training ('accuracy', 0.9871471774193549), Time 1.09\n",
      "Epoch 291, Training ('accuracy', 0.9901713709677419), Time 1.09\n",
      "Epoch 292, Training ('accuracy', 0.9896673387096774), Time 1.10\n",
      "Epoch 293, Training ('accuracy', 0.9873991935483871), Time 1.09\n",
      "Epoch 294, Training ('accuracy', 0.9879032258064516), Time 1.10\n",
      "Epoch 295, Training ('accuracy', 0.9891633064516129), Time 1.09\n",
      "Epoch 296, Training ('accuracy', 0.9873991935483871), Time 1.09\n",
      "Epoch 297, Training ('accuracy', 0.9896673387096774), Time 1.09\n",
      "Epoch 298, Training ('accuracy', 0.9873991935483871), Time 1.09\n",
      "Epoch 299, Training ('accuracy', 0.9871471774193549), Time 1.09\n"
     ]
    },
    {
     "name": "stderr",
     "output_type": "stream",
     "text": [
      "INFO:root:Saved checkpoint to \"models/chkpt-0300.params\"\n"
     ]
    },
    {
     "name": "stdout",
     "output_type": "stream",
     "text": [
      "Epoch 300, Training ('accuracy', 0.9879032258064516), Time 1.14\n",
      "Epoch 301, Training ('accuracy', 0.9891633064516129), Time 1.07\n",
      "Epoch 302, Training ('accuracy', 0.9899193548387096), Time 1.09\n",
      "Epoch 303, Training ('accuracy', 0.9901713709677419), Time 1.09\n",
      "Epoch 304, Training ('accuracy', 0.9863911290322581), Time 1.09\n",
      "Epoch 305, Training ('accuracy', 0.9868951612903226), Time 1.09\n",
      "Epoch 306, Training ('accuracy', 0.9884072580645161), Time 1.09\n",
      "Epoch 307, Training ('accuracy', 0.9904233870967742), Time 1.09\n",
      "Epoch 308, Training ('accuracy', 0.9896673387096774), Time 1.09\n",
      "Epoch 309, Training ('accuracy', 0.9876512096774194), Time 1.14\n",
      "Epoch 310, Training ('accuracy', 0.9889112903225806), Time 1.17\n",
      "Epoch 311, Training ('accuracy', 0.9896673387096774), Time 1.14\n",
      "Epoch 312, Training ('accuracy', 0.9881552419354839), Time 1.13\n",
      "Epoch 313, Training ('accuracy', 0.9879032258064516), Time 1.10\n",
      "Epoch 314, Training ('accuracy', 0.9894153225806451), Time 1.15\n",
      "Epoch 315, Training ('accuracy', 0.9906754032258065), Time 1.11\n",
      "Epoch 316, Training ('accuracy', 0.9881552419354839), Time 1.11\n",
      "Epoch 317, Training ('accuracy', 0.9894153225806451), Time 1.13\n",
      "Epoch 318, Training ('accuracy', 0.9906754032258065), Time 1.14\n",
      "Epoch 319, Training ('accuracy', 0.9899193548387096), Time 1.15\n",
      "Epoch 320, Training ('accuracy', 0.9876512096774194), Time 1.10\n",
      "Epoch 321, Training ('accuracy', 0.9889112903225806), Time 1.17\n",
      "Epoch 322, Training ('accuracy', 0.991179435483871), Time 1.14\n",
      "Epoch 323, Training ('accuracy', 0.9921875), Time 1.14\n",
      "Epoch 324, Training ('accuracy', 0.9884072580645161), Time 1.11\n",
      "Epoch 325, Training ('accuracy', 0.9894153225806451), Time 1.09\n",
      "Epoch 326, Training ('accuracy', 0.991179435483871), Time 1.09\n",
      "Epoch 327, Training ('accuracy', 0.9924395161290323), Time 1.09\n",
      "Epoch 328, Training ('accuracy', 0.9906754032258065), Time 1.09\n",
      "Epoch 329, Training ('accuracy', 0.9894153225806451), Time 1.09\n"
     ]
    },
    {
     "name": "stderr",
     "output_type": "stream",
     "text": [
      "INFO:root:Saved checkpoint to \"models/chkpt-0330.params\"\n"
     ]
    },
    {
     "name": "stdout",
     "output_type": "stream",
     "text": [
      "Epoch 330, Training ('accuracy', 0.9904233870967742), Time 1.14\n",
      "Epoch 331, Training ('accuracy', 0.9884072580645161), Time 1.08\n",
      "Epoch 332, Training ('accuracy', 0.9886592741935484), Time 1.09\n",
      "Epoch 333, Training ('accuracy', 0.9901713709677419), Time 1.09\n",
      "Epoch 334, Training ('accuracy', 0.9906754032258065), Time 1.09\n",
      "Epoch 335, Training ('accuracy', 0.9909274193548387), Time 1.09\n",
      "Epoch 336, Training ('accuracy', 0.991179435483871), Time 1.09\n",
      "Epoch 337, Training ('accuracy', 0.9901713709677419), Time 1.09\n",
      "Epoch 338, Training ('accuracy', 0.9906754032258065), Time 1.09\n",
      "Epoch 339, Training ('accuracy', 0.9876512096774194), Time 1.09\n",
      "Epoch 340, Training ('accuracy', 0.991179435483871), Time 1.10\n",
      "Epoch 341, Training ('accuracy', 0.9904233870967742), Time 1.09\n",
      "Epoch 342, Training ('accuracy', 0.9889112903225806), Time 1.09\n",
      "Epoch 343, Training ('accuracy', 0.9896673387096774), Time 1.09\n",
      "Epoch 344, Training ('accuracy', 0.991179435483871), Time 1.09\n",
      "Epoch 345, Training ('accuracy', 0.9921875), Time 1.09\n",
      "Epoch 346, Training ('accuracy', 0.9889112903225806), Time 1.09\n",
      "Epoch 347, Training ('accuracy', 0.9921875), Time 1.09\n",
      "Epoch 348, Training ('accuracy', 0.9929435483870968), Time 1.09\n",
      "Epoch 349, Training ('accuracy', 0.9901713709677419), Time 1.09\n",
      "Epoch 350, Training ('accuracy', 0.991179435483871), Time 1.09\n",
      "Epoch 351, Training ('accuracy', 0.9896673387096774), Time 1.09\n",
      "Epoch 352, Training ('accuracy', 0.9914314516129032), Time 1.09\n",
      "Epoch 353, Training ('accuracy', 0.9916834677419355), Time 1.09\n",
      "Epoch 354, Training ('accuracy', 0.993195564516129), Time 1.09\n",
      "Epoch 355, Training ('accuracy', 0.9926915322580645), Time 1.09\n",
      "Epoch 356, Training ('accuracy', 0.991179435483871), Time 1.09\n",
      "Epoch 357, Training ('accuracy', 0.9909274193548387), Time 1.09\n",
      "Epoch 358, Training ('accuracy', 0.9901713709677419), Time 1.09\n",
      "Epoch 359, Training ('accuracy', 0.991179435483871), Time 1.09\n"
     ]
    },
    {
     "name": "stderr",
     "output_type": "stream",
     "text": [
      "INFO:root:Saved checkpoint to \"models/chkpt-0360.params\"\n"
     ]
    },
    {
     "name": "stdout",
     "output_type": "stream",
     "text": [
      "Epoch 360, Training ('accuracy', 0.991179435483871), Time 1.15\n",
      "Epoch 361, Training ('accuracy', 0.9906754032258065), Time 1.07\n",
      "Epoch 362, Training ('accuracy', 0.991179435483871), Time 1.10\n",
      "Epoch 363, Training ('accuracy', 0.993195564516129), Time 1.09\n",
      "Epoch 364, Training ('accuracy', 0.9916834677419355), Time 1.09\n",
      "Epoch 365, Training ('accuracy', 0.993195564516129), Time 1.09\n",
      "Epoch 366, Training ('accuracy', 0.9916834677419355), Time 1.09\n",
      "Epoch 367, Training ('accuracy', 0.9909274193548387), Time 1.09\n",
      "Epoch 368, Training ('accuracy', 0.9914314516129032), Time 1.09\n",
      "Epoch 369, Training ('accuracy', 0.9916834677419355), Time 1.09\n",
      "Epoch 370, Training ('accuracy', 0.9909274193548387), Time 1.09\n",
      "Epoch 371, Training ('accuracy', 0.993195564516129), Time 1.09\n",
      "Epoch 372, Training ('accuracy', 0.9921875), Time 1.09\n",
      "Epoch 373, Training ('accuracy', 0.991179435483871), Time 1.09\n",
      "Epoch 374, Training ('accuracy', 0.9929435483870968), Time 1.10\n",
      "Epoch 375, Training ('accuracy', 0.9906754032258065), Time 1.09\n",
      "Epoch 376, Training ('accuracy', 0.9934475806451613), Time 1.09\n",
      "Epoch 377, Training ('accuracy', 0.9944556451612904), Time 1.09\n",
      "Epoch 378, Training ('accuracy', 0.9936995967741935), Time 1.09\n",
      "Epoch 379, Training ('accuracy', 0.9934475806451613), Time 1.09\n",
      "Epoch 380, Training ('accuracy', 0.9926915322580645), Time 1.09\n",
      "Epoch 381, Training ('accuracy', 0.9914314516129032), Time 1.09\n",
      "Epoch 382, Training ('accuracy', 0.9904233870967742), Time 1.09\n",
      "Epoch 383, Training ('accuracy', 0.9914314516129032), Time 1.09\n",
      "Epoch 384, Training ('accuracy', 0.9929435483870968), Time 1.09\n",
      "Epoch 385, Training ('accuracy', 0.991179435483871), Time 1.09\n",
      "Epoch 386, Training ('accuracy', 0.9919354838709677), Time 1.09\n",
      "Epoch 387, Training ('accuracy', 0.9924395161290323), Time 1.09\n",
      "Epoch 388, Training ('accuracy', 0.993195564516129), Time 1.09\n",
      "Epoch 389, Training ('accuracy', 0.9916834677419355), Time 1.09\n"
     ]
    },
    {
     "name": "stderr",
     "output_type": "stream",
     "text": [
      "INFO:root:Saved checkpoint to \"models/chkpt-0390.params\"\n"
     ]
    },
    {
     "name": "stdout",
     "output_type": "stream",
     "text": [
      "Epoch 390, Training ('accuracy', 0.991179435483871), Time 1.13\n",
      "Epoch 391, Training ('accuracy', 0.9929435483870968), Time 1.07\n",
      "Epoch 392, Training ('accuracy', 0.991179435483871), Time 1.09\n",
      "Epoch 393, Training ('accuracy', 0.9921875), Time 1.09\n",
      "Epoch 394, Training ('accuracy', 0.9929435483870968), Time 1.09\n",
      "Epoch 395, Training ('accuracy', 0.9926915322580645), Time 1.10\n",
      "Epoch 396, Training ('accuracy', 0.9944556451612904), Time 1.09\n",
      "Epoch 397, Training ('accuracy', 0.9924395161290323), Time 1.09\n",
      "Epoch 398, Training ('accuracy', 0.9947076612903226), Time 1.09\n",
      "Epoch 399, Training ('accuracy', 0.9934475806451613), Time 1.09\n"
     ]
    }
   ],
   "source": [
    "chk_prefix='models/chkpt'\n",
    "for epoch in range(400):\n",
    "    train_iter.reset()\n",
    "    metric.reset()\n",
    "    \n",
    "    st = time.time()\n",
    "    for batch in train_iter:\n",
    "        model.forward(data_batch=batch, is_train=True)\n",
    "        model.update_metric(metric, batch.label)\n",
    "        model.backward()\n",
    "        model.update()\n",
    "    \n",
    "    if epoch % 30 == 0:\n",
    "#         model_path = '{}_{}'.format(chk_prefix, epoch)\n",
    "        model.save_checkpoint(chk_prefix, epoch)\n",
    "        \n",
    "    et = time.time()-st\n",
    "    print('Epoch %d, Training %s, Time %.2f' % (epoch, metric.get(), et))"
   ]
  },
  {
   "cell_type": "code",
   "execution_count": 39,
   "metadata": {},
   "outputs": [
    {
     "data": {
      "text/plain": [
       "[('accuracy', 0.978515625)]"
      ]
     },
     "execution_count": 39,
     "metadata": {},
     "output_type": "execute_result"
    }
   ],
   "source": [
    "model.score(eval_iter, metric)"
   ]
  },
  {
   "cell_type": "code",
   "execution_count": 40,
   "metadata": {
    "collapsed": true
   },
   "outputs": [],
   "source": [
    "# ls data1"
   ]
  },
  {
   "cell_type": "code",
   "execution_count": 41,
   "metadata": {
    "collapsed": true
   },
   "outputs": [],
   "source": [
    "# # I took a picture of my hand \n",
    "# pred_im = cv2.imread('data1/test-crop.png', 0)\n",
    "# plt.imshow(pred_im)"
   ]
  },
  {
   "cell_type": "code",
   "execution_count": 42,
   "metadata": {
    "collapsed": true
   },
   "outputs": [],
   "source": [
    "# pred_im.shape"
   ]
  },
  {
   "cell_type": "code",
   "execution_count": 43,
   "metadata": {
    "collapsed": true
   },
   "outputs": [],
   "source": [
    "# pred_res = cv2.resize(pred_im,(200, 200), interpolation = cv2.INTER_CUBIC)\n",
    "# plt.imshow(pred_res)"
   ]
  },
  {
   "cell_type": "code",
   "execution_count": 44,
   "metadata": {
    "collapsed": true
   },
   "outputs": [],
   "source": [
    "# test_ = np.empty((1,1,200,200))\n",
    "# test_[0][0] = pred_res\n",
    "# lb = np.array([0])"
   ]
  },
  {
   "cell_type": "code",
   "execution_count": 45,
   "metadata": {
    "collapsed": true
   },
   "outputs": [],
   "source": [
    "# test_.shape#, lb.shape"
   ]
  },
  {
   "cell_type": "code",
   "execution_count": 46,
   "metadata": {
    "collapsed": true
   },
   "outputs": [],
   "source": [
    "# eval_iter = mx.io.NDArrayIter(test_, lb, batch_size=1)"
   ]
  },
  {
   "cell_type": "code",
   "execution_count": 47,
   "metadata": {
    "collapsed": true
   },
   "outputs": [],
   "source": [
    "# d = Batch([mx.nd.array(pred_res)])\n",
    "# # d, pred_res.shape\n",
    "# model.forward(data_batch=d)"
   ]
  },
  {
   "cell_type": "code",
   "execution_count": 48,
   "metadata": {
    "collapsed": true
   },
   "outputs": [],
   "source": [
    "# def get_image(url, show=False):\n",
    "#     # download and show the image\n",
    "# #     fname = mx.test_utils.download(url)\n",
    "# #     img = cv2.cvtColor(cv2.imread(fname), cv2.COLOR_BGR2RGB)\n",
    "#     img = cv2.imread(url, 0)\n",
    "#     if img is None:\n",
    "#          return None\n",
    "#     if show:\n",
    "#          plt.imshow(img)\n",
    "#          plt.axis('off')\n",
    "\n",
    "#     img = cv2.resize(img, (200, 200), interpolation = cv2.INTER_CUBIC)\n",
    "# #     img = np.swapaxes(img, 0, 2)\n",
    "# #     img = np.swapaxes(img, 1, 2)\n",
    "#     img = img[np.newaxis, np.newaxis, :]\n",
    "#     return img"
   ]
  },
  {
   "cell_type": "code",
   "execution_count": 49,
   "metadata": {
    "collapsed": true
   },
   "outputs": [],
   "source": [
    "# from collections import namedtuple\n",
    "# Batch = namedtuple('Batch', ['data'])\n",
    "# def predict(url):\n",
    "#     img = get_image(url, show=True)\n",
    "#     print img.shape\n",
    "#     print Batch([mx.nd.array(img)])\n",
    "#     # compute the predict probabilities\n",
    "# #     model.forward(Batch([mx.nd.array(img)]), is_train=False)\n",
    "# #     prob = mod.get_outputs()[0].asnumpy()\n",
    "# #     # print the top-5\n",
    "# #     prob = np.squeeze(prob)\n",
    "# #     a = np.argsort(prob)[::-1]\n",
    "# #     for i in a[0:5]:\n",
    "# #         print('probability=%f, class=%s' %(prob[i], labels[i]))"
   ]
  },
  {
   "cell_type": "code",
   "execution_count": 50,
   "metadata": {
    "collapsed": true,
    "scrolled": false
   },
   "outputs": [],
   "source": [
    "# # test picture with label 0\n",
    "# # pred = model.predict(eval_iter)#.asnumpy()\n",
    "# predict('data1/test-crop.png')"
   ]
  },
  {
   "cell_type": "code",
   "execution_count": 51,
   "metadata": {
    "collapsed": true
   },
   "outputs": [],
   "source": [
    "# pred.argmax() # correct!"
   ]
  },
  {
   "cell_type": "code",
   "execution_count": 52,
   "metadata": {},
   "outputs": [
    {
     "ename": "MXNetError",
     "evalue": "[12:44:33] src/ndarray/ndarray.cc:348: Check failed: from.shape() == to->shape() operands shape mismatchfrom.shape = (512,8450) to.shape=(512,110450)\n\nStack trace returned 10 entries:\n[bt] (0) /home/whatif/anaconda2/lib/python2.7/site-packages/mxnet/libmxnet.so(+0x1d57cc) [0x7f8f6bdbe7cc]\n[bt] (1) /home/whatif/anaconda2/lib/python2.7/site-packages/mxnet/libmxnet.so(+0xf408c2) [0x7f8f6cb298c2]\n[bt] (2) /home/whatif/anaconda2/lib/python2.7/site-packages/mxnet/libmxnet.so(+0xfa1737) [0x7f8f6cb8a737]\n[bt] (3) /home/whatif/anaconda2/lib/python2.7/site-packages/mxnet/libmxnet.so(+0xdf2a95) [0x7f8f6c9dba95]\n[bt] (4) /home/whatif/anaconda2/lib/python2.7/site-packages/mxnet/libmxnet.so(MXImperativeInvoke+0x254) [0x7f8f6c9dc7a4]\n[bt] (5) /home/whatif/anaconda2/lib/python2.7/lib-dynload/../../libffi.so.6(ffi_call_unix64+0x4c) [0x7f8fa0a9cadc]\n[bt] (6) /home/whatif/anaconda2/lib/python2.7/lib-dynload/../../libffi.so.6(ffi_call+0x1f2) [0x7f8fa0a9c282]\n[bt] (7) /home/whatif/anaconda2/lib/python2.7/lib-dynload/_ctypes.so(_ctypes_callproc+0x4d6) [0x7f8fa0cb1736]\n[bt] (8) /home/whatif/anaconda2/lib/python2.7/lib-dynload/_ctypes.so(+0x8a61) [0x7f8fa0ca7a61]\n[bt] (9) /home/whatif/anaconda2/bin/../lib/libpython2.7.so.1.0(PyObject_Call+0x43) [0x7f8fa5a8f773]\n",
     "output_type": "error",
     "traceback": [
      "\u001b[0;31m---------------------------------------------------------------------------\u001b[0m",
      "\u001b[0;31mMXNetError\u001b[0m                                Traceback (most recent call last)",
      "\u001b[0;32m<ipython-input-52-f4752f8317ad>\u001b[0m in \u001b[0;36m<module>\u001b[0;34m()\u001b[0m\n\u001b[1;32m      3\u001b[0m mod.bind(for_training=False, data_shapes=[('data', (1,3,200,200))], \n\u001b[1;32m      4\u001b[0m          label_shapes=mod._label_shapes)\n\u001b[0;32m----> 5\u001b[0;31m \u001b[0mmod\u001b[0m\u001b[0;34m.\u001b[0m\u001b[0mset_params\u001b[0m\u001b[0;34m(\u001b[0m\u001b[0marg_params\u001b[0m\u001b[0;34m,\u001b[0m \u001b[0maux_params\u001b[0m\u001b[0;34m,\u001b[0m \u001b[0mallow_missing\u001b[0m\u001b[0;34m=\u001b[0m\u001b[0mTrue\u001b[0m\u001b[0;34m)\u001b[0m\u001b[0;34m\u001b[0m\u001b[0m\n\u001b[0m",
      "\u001b[0;32m/home/whatif/anaconda2/lib/python2.7/site-packages/mxnet/module/module.pyc\u001b[0m in \u001b[0;36mset_params\u001b[0;34m(self, arg_params, aux_params, allow_missing, force_init, allow_extra)\u001b[0m\n\u001b[1;32m    343\u001b[0m             \u001b[0;32mreturn\u001b[0m\u001b[0;34m\u001b[0m\u001b[0m\n\u001b[1;32m    344\u001b[0m \u001b[0;34m\u001b[0m\u001b[0m\n\u001b[0;32m--> 345\u001b[0;31m         \u001b[0mself\u001b[0m\u001b[0;34m.\u001b[0m\u001b[0m_exec_group\u001b[0m\u001b[0;34m.\u001b[0m\u001b[0mset_params\u001b[0m\u001b[0;34m(\u001b[0m\u001b[0marg_params\u001b[0m\u001b[0;34m,\u001b[0m \u001b[0maux_params\u001b[0m\u001b[0;34m,\u001b[0m \u001b[0mallow_extra\u001b[0m\u001b[0;34m=\u001b[0m\u001b[0mallow_extra\u001b[0m\u001b[0;34m)\u001b[0m\u001b[0;34m\u001b[0m\u001b[0m\n\u001b[0m\u001b[1;32m    346\u001b[0m \u001b[0;34m\u001b[0m\u001b[0m\n\u001b[1;32m    347\u001b[0m         \u001b[0;31m# because we didn't update self._arg_params, they are dirty now.\u001b[0m\u001b[0;34m\u001b[0m\u001b[0;34m\u001b[0m\u001b[0m\n",
      "\u001b[0;32m/home/whatif/anaconda2/lib/python2.7/site-packages/mxnet/module/executor_group.pyc\u001b[0m in \u001b[0;36mset_params\u001b[0;34m(self, arg_params, aux_params, allow_extra)\u001b[0m\n\u001b[1;32m    363\u001b[0m         \"\"\"\n\u001b[1;32m    364\u001b[0m         \u001b[0;32mfor\u001b[0m \u001b[0mexec_\u001b[0m \u001b[0;32min\u001b[0m \u001b[0mself\u001b[0m\u001b[0;34m.\u001b[0m\u001b[0mexecs\u001b[0m\u001b[0;34m:\u001b[0m\u001b[0;34m\u001b[0m\u001b[0m\n\u001b[0;32m--> 365\u001b[0;31m             \u001b[0mexec_\u001b[0m\u001b[0;34m.\u001b[0m\u001b[0mcopy_params_from\u001b[0m\u001b[0;34m(\u001b[0m\u001b[0marg_params\u001b[0m\u001b[0;34m,\u001b[0m \u001b[0maux_params\u001b[0m\u001b[0;34m,\u001b[0m \u001b[0mallow_extra_params\u001b[0m\u001b[0;34m=\u001b[0m\u001b[0mallow_extra\u001b[0m\u001b[0;34m)\u001b[0m\u001b[0;34m\u001b[0m\u001b[0m\n\u001b[0m\u001b[1;32m    366\u001b[0m \u001b[0;34m\u001b[0m\u001b[0m\n\u001b[1;32m    367\u001b[0m     \u001b[0;32mdef\u001b[0m \u001b[0mget_params\u001b[0m\u001b[0;34m(\u001b[0m\u001b[0mself\u001b[0m\u001b[0;34m,\u001b[0m \u001b[0marg_params\u001b[0m\u001b[0;34m,\u001b[0m \u001b[0maux_params\u001b[0m\u001b[0;34m)\u001b[0m\u001b[0;34m:\u001b[0m\u001b[0;34m\u001b[0m\u001b[0m\n",
      "\u001b[0;32m/home/whatif/anaconda2/lib/python2.7/site-packages/mxnet/executor.pyc\u001b[0m in \u001b[0;36mcopy_params_from\u001b[0;34m(self, arg_params, aux_params, allow_extra_params)\u001b[0m\n\u001b[1;32m    352\u001b[0m             \u001b[0;32mif\u001b[0m \u001b[0mname\u001b[0m \u001b[0;32min\u001b[0m \u001b[0mself\u001b[0m\u001b[0;34m.\u001b[0m\u001b[0marg_dict\u001b[0m\u001b[0;34m:\u001b[0m\u001b[0;34m\u001b[0m\u001b[0m\n\u001b[1;32m    353\u001b[0m                 \u001b[0mdst\u001b[0m \u001b[0;34m=\u001b[0m \u001b[0mself\u001b[0m\u001b[0;34m.\u001b[0m\u001b[0marg_dict\u001b[0m\u001b[0;34m[\u001b[0m\u001b[0mname\u001b[0m\u001b[0;34m]\u001b[0m\u001b[0;34m\u001b[0m\u001b[0m\n\u001b[0;32m--> 354\u001b[0;31m                 \u001b[0marray\u001b[0m\u001b[0;34m.\u001b[0m\u001b[0mastype\u001b[0m\u001b[0;34m(\u001b[0m\u001b[0mdst\u001b[0m\u001b[0;34m.\u001b[0m\u001b[0mdtype\u001b[0m\u001b[0;34m)\u001b[0m\u001b[0;34m.\u001b[0m\u001b[0mcopyto\u001b[0m\u001b[0;34m(\u001b[0m\u001b[0mdst\u001b[0m\u001b[0;34m)\u001b[0m\u001b[0;34m\u001b[0m\u001b[0m\n\u001b[0m\u001b[1;32m    355\u001b[0m             \u001b[0;32melif\u001b[0m \u001b[0;32mnot\u001b[0m \u001b[0mallow_extra_params\u001b[0m\u001b[0;34m:\u001b[0m\u001b[0;34m\u001b[0m\u001b[0m\n\u001b[1;32m    356\u001b[0m                 \u001b[0;32mraise\u001b[0m \u001b[0mValueError\u001b[0m\u001b[0;34m(\u001b[0m\u001b[0;34m'Find name \\\"%s\\\" that is not in the arguments'\u001b[0m \u001b[0;34m%\u001b[0m \u001b[0mname\u001b[0m\u001b[0;34m)\u001b[0m\u001b[0;34m\u001b[0m\u001b[0m\n",
      "\u001b[0;32m/home/whatif/anaconda2/lib/python2.7/site-packages/mxnet/ndarray.pyc\u001b[0m in \u001b[0;36mcopyto\u001b[0;34m(self, other)\u001b[0m\n\u001b[1;32m    987\u001b[0m                 \u001b[0mwarnings\u001b[0m\u001b[0;34m.\u001b[0m\u001b[0mwarn\u001b[0m\u001b[0;34m(\u001b[0m\u001b[0;34m'You are attempting to copy an array to itself'\u001b[0m\u001b[0;34m,\u001b[0m \u001b[0mRuntimeWarning\u001b[0m\u001b[0;34m)\u001b[0m\u001b[0;34m\u001b[0m\u001b[0m\n\u001b[1;32m    988\u001b[0m                 \u001b[0;32mreturn\u001b[0m\u001b[0;34m\u001b[0m\u001b[0m\n\u001b[0;32m--> 989\u001b[0;31m             \u001b[0;32mreturn\u001b[0m \u001b[0m_internal\u001b[0m\u001b[0;34m.\u001b[0m\u001b[0m_copyto\u001b[0m\u001b[0;34m(\u001b[0m\u001b[0mself\u001b[0m\u001b[0;34m,\u001b[0m \u001b[0mout\u001b[0m\u001b[0;34m=\u001b[0m\u001b[0mother\u001b[0m\u001b[0;34m)\u001b[0m\u001b[0;34m\u001b[0m\u001b[0m\n\u001b[0m\u001b[1;32m    990\u001b[0m         \u001b[0;32melif\u001b[0m \u001b[0misinstance\u001b[0m\u001b[0;34m(\u001b[0m\u001b[0mother\u001b[0m\u001b[0;34m,\u001b[0m \u001b[0mContext\u001b[0m\u001b[0;34m)\u001b[0m\u001b[0;34m:\u001b[0m\u001b[0;34m\u001b[0m\u001b[0m\n\u001b[1;32m    991\u001b[0m             \u001b[0mhret\u001b[0m \u001b[0;34m=\u001b[0m \u001b[0mNDArray\u001b[0m\u001b[0;34m(\u001b[0m\u001b[0m_new_alloc_handle\u001b[0m\u001b[0;34m(\u001b[0m\u001b[0mself\u001b[0m\u001b[0;34m.\u001b[0m\u001b[0mshape\u001b[0m\u001b[0;34m,\u001b[0m \u001b[0mother\u001b[0m\u001b[0;34m,\u001b[0m \u001b[0mTrue\u001b[0m\u001b[0;34m,\u001b[0m \u001b[0mself\u001b[0m\u001b[0;34m.\u001b[0m\u001b[0mdtype\u001b[0m\u001b[0;34m)\u001b[0m\u001b[0;34m)\u001b[0m\u001b[0;34m\u001b[0m\u001b[0m\n",
      "\u001b[0;32m/home/whatif/anaconda2/lib/python2.7/site-packages/mxnet/ndarray.pyc\u001b[0m in \u001b[0;36m_copyto\u001b[0;34m(src, out, name, **kwargs)\u001b[0m\n",
      "\u001b[0;32m/home/whatif/anaconda2/lib/python2.7/site-packages/mxnet/_ctypes/ndarray.pyc\u001b[0m in \u001b[0;36m_imperative_invoke\u001b[0;34m(handle, ndargs, keys, vals, out)\u001b[0m\n\u001b[1;32m     87\u001b[0m         \u001b[0mctypes\u001b[0m\u001b[0;34m.\u001b[0m\u001b[0mc_int\u001b[0m\u001b[0;34m(\u001b[0m\u001b[0mlen\u001b[0m\u001b[0;34m(\u001b[0m\u001b[0mkeys\u001b[0m\u001b[0;34m)\u001b[0m\u001b[0;34m)\u001b[0m\u001b[0;34m,\u001b[0m\u001b[0;34m\u001b[0m\u001b[0m\n\u001b[1;32m     88\u001b[0m         \u001b[0mc_array\u001b[0m\u001b[0;34m(\u001b[0m\u001b[0mctypes\u001b[0m\u001b[0;34m.\u001b[0m\u001b[0mc_char_p\u001b[0m\u001b[0;34m,\u001b[0m \u001b[0;34m[\u001b[0m\u001b[0mc_str\u001b[0m\u001b[0;34m(\u001b[0m\u001b[0mkey\u001b[0m\u001b[0;34m)\u001b[0m \u001b[0;32mfor\u001b[0m \u001b[0mkey\u001b[0m \u001b[0;32min\u001b[0m \u001b[0mkeys\u001b[0m\u001b[0;34m]\u001b[0m\u001b[0;34m)\u001b[0m\u001b[0;34m,\u001b[0m\u001b[0;34m\u001b[0m\u001b[0m\n\u001b[0;32m---> 89\u001b[0;31m         c_array(ctypes.c_char_p, [c_str(str(val)) for val in vals])))\n\u001b[0m\u001b[1;32m     90\u001b[0m \u001b[0;34m\u001b[0m\u001b[0m\n\u001b[1;32m     91\u001b[0m     \u001b[0;32mif\u001b[0m \u001b[0moriginal_output\u001b[0m \u001b[0;32mis\u001b[0m \u001b[0;32mnot\u001b[0m \u001b[0mNone\u001b[0m\u001b[0;34m:\u001b[0m\u001b[0;34m\u001b[0m\u001b[0m\n",
      "\u001b[0;32m/home/whatif/anaconda2/lib/python2.7/site-packages/mxnet/base.pyc\u001b[0m in \u001b[0;36mcheck_call\u001b[0;34m(ret)\u001b[0m\n\u001b[1;32m    127\u001b[0m     \"\"\"\n\u001b[1;32m    128\u001b[0m     \u001b[0;32mif\u001b[0m \u001b[0mret\u001b[0m \u001b[0;34m!=\u001b[0m \u001b[0;36m0\u001b[0m\u001b[0;34m:\u001b[0m\u001b[0;34m\u001b[0m\u001b[0m\n\u001b[0;32m--> 129\u001b[0;31m         \u001b[0;32mraise\u001b[0m \u001b[0mMXNetError\u001b[0m\u001b[0;34m(\u001b[0m\u001b[0mpy_str\u001b[0m\u001b[0;34m(\u001b[0m\u001b[0m_LIB\u001b[0m\u001b[0;34m.\u001b[0m\u001b[0mMXGetLastError\u001b[0m\u001b[0;34m(\u001b[0m\u001b[0;34m)\u001b[0m\u001b[0;34m)\u001b[0m\u001b[0;34m)\u001b[0m\u001b[0;34m\u001b[0m\u001b[0m\n\u001b[0m\u001b[1;32m    130\u001b[0m \u001b[0;34m\u001b[0m\u001b[0m\n\u001b[1;32m    131\u001b[0m \u001b[0;32mif\u001b[0m \u001b[0msys\u001b[0m\u001b[0;34m.\u001b[0m\u001b[0mversion_info\u001b[0m\u001b[0;34m[\u001b[0m\u001b[0;36m0\u001b[0m\u001b[0;34m]\u001b[0m \u001b[0;34m<\u001b[0m \u001b[0;36m3\u001b[0m\u001b[0;34m:\u001b[0m\u001b[0;34m\u001b[0m\u001b[0m\n",
      "\u001b[0;31mMXNetError\u001b[0m: [12:44:33] src/ndarray/ndarray.cc:348: Check failed: from.shape() == to->shape() operands shape mismatchfrom.shape = (512,8450) to.shape=(512,110450)\n\nStack trace returned 10 entries:\n[bt] (0) /home/whatif/anaconda2/lib/python2.7/site-packages/mxnet/libmxnet.so(+0x1d57cc) [0x7f8f6bdbe7cc]\n[bt] (1) /home/whatif/anaconda2/lib/python2.7/site-packages/mxnet/libmxnet.so(+0xf408c2) [0x7f8f6cb298c2]\n[bt] (2) /home/whatif/anaconda2/lib/python2.7/site-packages/mxnet/libmxnet.so(+0xfa1737) [0x7f8f6cb8a737]\n[bt] (3) /home/whatif/anaconda2/lib/python2.7/site-packages/mxnet/libmxnet.so(+0xdf2a95) [0x7f8f6c9dba95]\n[bt] (4) /home/whatif/anaconda2/lib/python2.7/site-packages/mxnet/libmxnet.so(MXImperativeInvoke+0x254) [0x7f8f6c9dc7a4]\n[bt] (5) /home/whatif/anaconda2/lib/python2.7/lib-dynload/../../libffi.so.6(ffi_call_unix64+0x4c) [0x7f8fa0a9cadc]\n[bt] (6) /home/whatif/anaconda2/lib/python2.7/lib-dynload/../../libffi.so.6(ffi_call+0x1f2) [0x7f8fa0a9c282]\n[bt] (7) /home/whatif/anaconda2/lib/python2.7/lib-dynload/_ctypes.so(_ctypes_callproc+0x4d6) [0x7f8fa0cb1736]\n[bt] (8) /home/whatif/anaconda2/lib/python2.7/lib-dynload/_ctypes.so(+0x8a61) [0x7f8fa0ca7a61]\n[bt] (9) /home/whatif/anaconda2/bin/../lib/libpython2.7.so.1.0(PyObject_Call+0x43) [0x7f8fa5a8f773]\n"
     ]
    }
   ],
   "source": [
    "sym, arg_params, aux_params = mx.model.load_checkpoint('models/chkpt', 210)\n",
    "mod = mx.mod.Module(symbol=sym, context=mx.cpu(), label_names=None)\n",
    "mod.bind(for_training=False, data_shapes=[('data', (1,3,200,200))], \n",
    "         label_shapes=mod._label_shapes)\n",
    "mod.set_params(arg_params, aux_params, allow_missing=True)"
   ]
  },
  {
   "cell_type": "code",
   "execution_count": null,
   "metadata": {
    "collapsed": true
   },
   "outputs": [],
   "source": [
    "from collections import namedtuple\n",
    "Batch = namedtuple('Batch', ['data'])\n",
    "\n",
    "mod.forward(Batch([mx.nd.array(res)]))"
   ]
  },
  {
   "cell_type": "code",
   "execution_count": null,
   "metadata": {},
   "outputs": [],
   "source": [
    "mod.get_outputs()[0]"
   ]
  },
  {
   "cell_type": "code",
   "execution_count": null,
   "metadata": {
    "collapsed": true
   },
   "outputs": [],
   "source": [
    "#    # save a model to mymodel-symbol.json and mymodel-0100.params\n",
    "#     prefix = 'mymodel'\n",
    "#     iteration = 100\n",
    "#     model.save(prefix, iteration)\n",
    "\n",
    "#     # load model back\n",
    "#     model_loaded = mx.model.FeedForward.load(prefix, iteration)"
   ]
  },
  {
   "cell_type": "code",
   "execution_count": null,
   "metadata": {
    "collapsed": true
   },
   "outputs": [],
   "source": []
  }
 ],
 "metadata": {
  "kernelspec": {
   "display_name": "Python 2",
   "language": "python",
   "name": "python2"
  },
  "language_info": {
   "codemirror_mode": {
    "name": "ipython",
    "version": 2
   },
   "file_extension": ".py",
   "mimetype": "text/x-python",
   "name": "python",
   "nbconvert_exporter": "python",
   "pygments_lexer": "ipython2",
   "version": "2.7.14"
  }
 },
 "nbformat": 4,
 "nbformat_minor": 2
}
