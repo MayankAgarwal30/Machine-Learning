{
 "cells": [
  {
   "cell_type": "code",
   "execution_count": 1,
   "metadata": {
    "collapsed": true
   },
   "outputs": [],
   "source": [
    "import numpy as np\n",
    "import mxnet as mx\n",
    "import time\n",
    "import pandas as pd\n",
    "\n",
    "import cv2\n",
    "\n",
    "import logging\n",
    "logging.getLogger().setLevel(logging.DEBUG)  # logging to stdout"
   ]
  },
  {
   "cell_type": "code",
   "execution_count": 2,
   "metadata": {
    "collapsed": true
   },
   "outputs": [],
   "source": [
    "import matplotlib.pyplot as plt\n",
    "%matplotlib inline"
   ]
  },
  {
   "cell_type": "code",
   "execution_count": 3,
   "metadata": {},
   "outputs": [
    {
     "ename": "MXNetError",
     "evalue": "[14:06:03] src/ndarray/ndarray.cc:348: Check failed: from.shape() == to->shape() operands shape mismatchfrom.shape = (512,8450) to.shape=(512,110450)\n\nStack trace returned 10 entries:\n[bt] (0) /home/whatif/anaconda2/lib/python2.7/site-packages/mxnet/libmxnet.so(+0x1d57cc) [0x7f95c5dd87cc]\n[bt] (1) /home/whatif/anaconda2/lib/python2.7/site-packages/mxnet/libmxnet.so(+0xf408c2) [0x7f95c6b438c2]\n[bt] (2) /home/whatif/anaconda2/lib/python2.7/site-packages/mxnet/libmxnet.so(+0xfa1737) [0x7f95c6ba4737]\n[bt] (3) /home/whatif/anaconda2/lib/python2.7/site-packages/mxnet/libmxnet.so(+0xdf2a95) [0x7f95c69f5a95]\n[bt] (4) /home/whatif/anaconda2/lib/python2.7/site-packages/mxnet/libmxnet.so(MXImperativeInvoke+0x254) [0x7f95c69f67a4]\n[bt] (5) /home/whatif/anaconda2/lib/python2.7/lib-dynload/../../libffi.so.6(ffi_call_unix64+0x4c) [0x7f95fc935adc]\n[bt] (6) /home/whatif/anaconda2/lib/python2.7/lib-dynload/../../libffi.so.6(ffi_call+0x1f2) [0x7f95fc935282]\n[bt] (7) /home/whatif/anaconda2/lib/python2.7/lib-dynload/_ctypes.so(_ctypes_callproc+0x4d6) [0x7f95fcb4a736]\n[bt] (8) /home/whatif/anaconda2/lib/python2.7/lib-dynload/_ctypes.so(+0x8a61) [0x7f95fcb40a61]\n[bt] (9) /home/whatif/anaconda2/bin/../lib/libpython2.7.so.1.0(PyObject_Call+0x43) [0x7f9601928773]\n",
     "output_type": "error",
     "traceback": [
      "\u001b[0;31m---------------------------------------------------------------------------\u001b[0m",
      "\u001b[0;31mMXNetError\u001b[0m                                Traceback (most recent call last)",
      "\u001b[0;32m<ipython-input-3-74da70484e93>\u001b[0m in \u001b[0;36m<module>\u001b[0;34m()\u001b[0m\n\u001b[1;32m      4\u001b[0m model.bind(for_training=False, data_shapes=[('data', (1,3,200,200))], \n\u001b[1;32m      5\u001b[0m          label_shapes=model._label_shapes)\n\u001b[0;32m----> 6\u001b[0;31m \u001b[0mmodel\u001b[0m\u001b[0;34m.\u001b[0m\u001b[0mset_params\u001b[0m\u001b[0;34m(\u001b[0m\u001b[0marg_params\u001b[0m\u001b[0;34m,\u001b[0m \u001b[0maux_params\u001b[0m\u001b[0;34m,\u001b[0m \u001b[0mallow_missing\u001b[0m\u001b[0;34m=\u001b[0m\u001b[0mTrue\u001b[0m\u001b[0;34m)\u001b[0m\u001b[0;34m\u001b[0m\u001b[0m\n\u001b[0m",
      "\u001b[0;32m/home/whatif/anaconda2/lib/python2.7/site-packages/mxnet/module/module.pyc\u001b[0m in \u001b[0;36mset_params\u001b[0;34m(self, arg_params, aux_params, allow_missing, force_init, allow_extra)\u001b[0m\n\u001b[1;32m    343\u001b[0m             \u001b[0;32mreturn\u001b[0m\u001b[0;34m\u001b[0m\u001b[0m\n\u001b[1;32m    344\u001b[0m \u001b[0;34m\u001b[0m\u001b[0m\n\u001b[0;32m--> 345\u001b[0;31m         \u001b[0mself\u001b[0m\u001b[0;34m.\u001b[0m\u001b[0m_exec_group\u001b[0m\u001b[0;34m.\u001b[0m\u001b[0mset_params\u001b[0m\u001b[0;34m(\u001b[0m\u001b[0marg_params\u001b[0m\u001b[0;34m,\u001b[0m \u001b[0maux_params\u001b[0m\u001b[0;34m,\u001b[0m \u001b[0mallow_extra\u001b[0m\u001b[0;34m=\u001b[0m\u001b[0mallow_extra\u001b[0m\u001b[0;34m)\u001b[0m\u001b[0;34m\u001b[0m\u001b[0m\n\u001b[0m\u001b[1;32m    346\u001b[0m \u001b[0;34m\u001b[0m\u001b[0m\n\u001b[1;32m    347\u001b[0m         \u001b[0;31m# because we didn't update self._arg_params, they are dirty now.\u001b[0m\u001b[0;34m\u001b[0m\u001b[0;34m\u001b[0m\u001b[0m\n",
      "\u001b[0;32m/home/whatif/anaconda2/lib/python2.7/site-packages/mxnet/module/executor_group.pyc\u001b[0m in \u001b[0;36mset_params\u001b[0;34m(self, arg_params, aux_params, allow_extra)\u001b[0m\n\u001b[1;32m    363\u001b[0m         \"\"\"\n\u001b[1;32m    364\u001b[0m         \u001b[0;32mfor\u001b[0m \u001b[0mexec_\u001b[0m \u001b[0;32min\u001b[0m \u001b[0mself\u001b[0m\u001b[0;34m.\u001b[0m\u001b[0mexecs\u001b[0m\u001b[0;34m:\u001b[0m\u001b[0;34m\u001b[0m\u001b[0m\n\u001b[0;32m--> 365\u001b[0;31m             \u001b[0mexec_\u001b[0m\u001b[0;34m.\u001b[0m\u001b[0mcopy_params_from\u001b[0m\u001b[0;34m(\u001b[0m\u001b[0marg_params\u001b[0m\u001b[0;34m,\u001b[0m \u001b[0maux_params\u001b[0m\u001b[0;34m,\u001b[0m \u001b[0mallow_extra_params\u001b[0m\u001b[0;34m=\u001b[0m\u001b[0mallow_extra\u001b[0m\u001b[0;34m)\u001b[0m\u001b[0;34m\u001b[0m\u001b[0m\n\u001b[0m\u001b[1;32m    366\u001b[0m \u001b[0;34m\u001b[0m\u001b[0m\n\u001b[1;32m    367\u001b[0m     \u001b[0;32mdef\u001b[0m \u001b[0mget_params\u001b[0m\u001b[0;34m(\u001b[0m\u001b[0mself\u001b[0m\u001b[0;34m,\u001b[0m \u001b[0marg_params\u001b[0m\u001b[0;34m,\u001b[0m \u001b[0maux_params\u001b[0m\u001b[0;34m)\u001b[0m\u001b[0;34m:\u001b[0m\u001b[0;34m\u001b[0m\u001b[0m\n",
      "\u001b[0;32m/home/whatif/anaconda2/lib/python2.7/site-packages/mxnet/executor.pyc\u001b[0m in \u001b[0;36mcopy_params_from\u001b[0;34m(self, arg_params, aux_params, allow_extra_params)\u001b[0m\n\u001b[1;32m    352\u001b[0m             \u001b[0;32mif\u001b[0m \u001b[0mname\u001b[0m \u001b[0;32min\u001b[0m \u001b[0mself\u001b[0m\u001b[0;34m.\u001b[0m\u001b[0marg_dict\u001b[0m\u001b[0;34m:\u001b[0m\u001b[0;34m\u001b[0m\u001b[0m\n\u001b[1;32m    353\u001b[0m                 \u001b[0mdst\u001b[0m \u001b[0;34m=\u001b[0m \u001b[0mself\u001b[0m\u001b[0;34m.\u001b[0m\u001b[0marg_dict\u001b[0m\u001b[0;34m[\u001b[0m\u001b[0mname\u001b[0m\u001b[0;34m]\u001b[0m\u001b[0;34m\u001b[0m\u001b[0m\n\u001b[0;32m--> 354\u001b[0;31m                 \u001b[0marray\u001b[0m\u001b[0;34m.\u001b[0m\u001b[0mastype\u001b[0m\u001b[0;34m(\u001b[0m\u001b[0mdst\u001b[0m\u001b[0;34m.\u001b[0m\u001b[0mdtype\u001b[0m\u001b[0;34m)\u001b[0m\u001b[0;34m.\u001b[0m\u001b[0mcopyto\u001b[0m\u001b[0;34m(\u001b[0m\u001b[0mdst\u001b[0m\u001b[0;34m)\u001b[0m\u001b[0;34m\u001b[0m\u001b[0m\n\u001b[0m\u001b[1;32m    355\u001b[0m             \u001b[0;32melif\u001b[0m \u001b[0;32mnot\u001b[0m \u001b[0mallow_extra_params\u001b[0m\u001b[0;34m:\u001b[0m\u001b[0;34m\u001b[0m\u001b[0m\n\u001b[1;32m    356\u001b[0m                 \u001b[0;32mraise\u001b[0m \u001b[0mValueError\u001b[0m\u001b[0;34m(\u001b[0m\u001b[0;34m'Find name \\\"%s\\\" that is not in the arguments'\u001b[0m \u001b[0;34m%\u001b[0m \u001b[0mname\u001b[0m\u001b[0;34m)\u001b[0m\u001b[0;34m\u001b[0m\u001b[0m\n",
      "\u001b[0;32m/home/whatif/anaconda2/lib/python2.7/site-packages/mxnet/ndarray.pyc\u001b[0m in \u001b[0;36mcopyto\u001b[0;34m(self, other)\u001b[0m\n\u001b[1;32m    987\u001b[0m                 \u001b[0mwarnings\u001b[0m\u001b[0;34m.\u001b[0m\u001b[0mwarn\u001b[0m\u001b[0;34m(\u001b[0m\u001b[0;34m'You are attempting to copy an array to itself'\u001b[0m\u001b[0;34m,\u001b[0m \u001b[0mRuntimeWarning\u001b[0m\u001b[0;34m)\u001b[0m\u001b[0;34m\u001b[0m\u001b[0m\n\u001b[1;32m    988\u001b[0m                 \u001b[0;32mreturn\u001b[0m\u001b[0;34m\u001b[0m\u001b[0m\n\u001b[0;32m--> 989\u001b[0;31m             \u001b[0;32mreturn\u001b[0m \u001b[0m_internal\u001b[0m\u001b[0;34m.\u001b[0m\u001b[0m_copyto\u001b[0m\u001b[0;34m(\u001b[0m\u001b[0mself\u001b[0m\u001b[0;34m,\u001b[0m \u001b[0mout\u001b[0m\u001b[0;34m=\u001b[0m\u001b[0mother\u001b[0m\u001b[0;34m)\u001b[0m\u001b[0;34m\u001b[0m\u001b[0m\n\u001b[0m\u001b[1;32m    990\u001b[0m         \u001b[0;32melif\u001b[0m \u001b[0misinstance\u001b[0m\u001b[0;34m(\u001b[0m\u001b[0mother\u001b[0m\u001b[0;34m,\u001b[0m \u001b[0mContext\u001b[0m\u001b[0;34m)\u001b[0m\u001b[0;34m:\u001b[0m\u001b[0;34m\u001b[0m\u001b[0m\n\u001b[1;32m    991\u001b[0m             \u001b[0mhret\u001b[0m \u001b[0;34m=\u001b[0m \u001b[0mNDArray\u001b[0m\u001b[0;34m(\u001b[0m\u001b[0m_new_alloc_handle\u001b[0m\u001b[0;34m(\u001b[0m\u001b[0mself\u001b[0m\u001b[0;34m.\u001b[0m\u001b[0mshape\u001b[0m\u001b[0;34m,\u001b[0m \u001b[0mother\u001b[0m\u001b[0;34m,\u001b[0m \u001b[0mTrue\u001b[0m\u001b[0;34m,\u001b[0m \u001b[0mself\u001b[0m\u001b[0;34m.\u001b[0m\u001b[0mdtype\u001b[0m\u001b[0;34m)\u001b[0m\u001b[0;34m)\u001b[0m\u001b[0;34m\u001b[0m\u001b[0m\n",
      "\u001b[0;32m/home/whatif/anaconda2/lib/python2.7/site-packages/mxnet/ndarray.pyc\u001b[0m in \u001b[0;36m_copyto\u001b[0;34m(src, out, name, **kwargs)\u001b[0m\n",
      "\u001b[0;32m/home/whatif/anaconda2/lib/python2.7/site-packages/mxnet/_ctypes/ndarray.pyc\u001b[0m in \u001b[0;36m_imperative_invoke\u001b[0;34m(handle, ndargs, keys, vals, out)\u001b[0m\n\u001b[1;32m     87\u001b[0m         \u001b[0mctypes\u001b[0m\u001b[0;34m.\u001b[0m\u001b[0mc_int\u001b[0m\u001b[0;34m(\u001b[0m\u001b[0mlen\u001b[0m\u001b[0;34m(\u001b[0m\u001b[0mkeys\u001b[0m\u001b[0;34m)\u001b[0m\u001b[0;34m)\u001b[0m\u001b[0;34m,\u001b[0m\u001b[0;34m\u001b[0m\u001b[0m\n\u001b[1;32m     88\u001b[0m         \u001b[0mc_array\u001b[0m\u001b[0;34m(\u001b[0m\u001b[0mctypes\u001b[0m\u001b[0;34m.\u001b[0m\u001b[0mc_char_p\u001b[0m\u001b[0;34m,\u001b[0m \u001b[0;34m[\u001b[0m\u001b[0mc_str\u001b[0m\u001b[0;34m(\u001b[0m\u001b[0mkey\u001b[0m\u001b[0;34m)\u001b[0m \u001b[0;32mfor\u001b[0m \u001b[0mkey\u001b[0m \u001b[0;32min\u001b[0m \u001b[0mkeys\u001b[0m\u001b[0;34m]\u001b[0m\u001b[0;34m)\u001b[0m\u001b[0;34m,\u001b[0m\u001b[0;34m\u001b[0m\u001b[0m\n\u001b[0;32m---> 89\u001b[0;31m         c_array(ctypes.c_char_p, [c_str(str(val)) for val in vals])))\n\u001b[0m\u001b[1;32m     90\u001b[0m \u001b[0;34m\u001b[0m\u001b[0m\n\u001b[1;32m     91\u001b[0m     \u001b[0;32mif\u001b[0m \u001b[0moriginal_output\u001b[0m \u001b[0;32mis\u001b[0m \u001b[0;32mnot\u001b[0m \u001b[0mNone\u001b[0m\u001b[0;34m:\u001b[0m\u001b[0;34m\u001b[0m\u001b[0m\n",
      "\u001b[0;32m/home/whatif/anaconda2/lib/python2.7/site-packages/mxnet/base.pyc\u001b[0m in \u001b[0;36mcheck_call\u001b[0;34m(ret)\u001b[0m\n\u001b[1;32m    127\u001b[0m     \"\"\"\n\u001b[1;32m    128\u001b[0m     \u001b[0;32mif\u001b[0m \u001b[0mret\u001b[0m \u001b[0;34m!=\u001b[0m \u001b[0;36m0\u001b[0m\u001b[0;34m:\u001b[0m\u001b[0;34m\u001b[0m\u001b[0m\n\u001b[0;32m--> 129\u001b[0;31m         \u001b[0;32mraise\u001b[0m \u001b[0mMXNetError\u001b[0m\u001b[0;34m(\u001b[0m\u001b[0mpy_str\u001b[0m\u001b[0;34m(\u001b[0m\u001b[0m_LIB\u001b[0m\u001b[0;34m.\u001b[0m\u001b[0mMXGetLastError\u001b[0m\u001b[0;34m(\u001b[0m\u001b[0;34m)\u001b[0m\u001b[0;34m)\u001b[0m\u001b[0;34m)\u001b[0m\u001b[0;34m\u001b[0m\u001b[0m\n\u001b[0m\u001b[1;32m    130\u001b[0m \u001b[0;34m\u001b[0m\u001b[0m\n\u001b[1;32m    131\u001b[0m \u001b[0;32mif\u001b[0m \u001b[0msys\u001b[0m\u001b[0;34m.\u001b[0m\u001b[0mversion_info\u001b[0m\u001b[0;34m[\u001b[0m\u001b[0;36m0\u001b[0m\u001b[0;34m]\u001b[0m \u001b[0;34m<\u001b[0m \u001b[0;36m3\u001b[0m\u001b[0;34m:\u001b[0m\u001b[0;34m\u001b[0m\u001b[0m\n",
      "\u001b[0;31mMXNetError\u001b[0m: [14:06:03] src/ndarray/ndarray.cc:348: Check failed: from.shape() == to->shape() operands shape mismatchfrom.shape = (512,8450) to.shape=(512,110450)\n\nStack trace returned 10 entries:\n[bt] (0) /home/whatif/anaconda2/lib/python2.7/site-packages/mxnet/libmxnet.so(+0x1d57cc) [0x7f95c5dd87cc]\n[bt] (1) /home/whatif/anaconda2/lib/python2.7/site-packages/mxnet/libmxnet.so(+0xf408c2) [0x7f95c6b438c2]\n[bt] (2) /home/whatif/anaconda2/lib/python2.7/site-packages/mxnet/libmxnet.so(+0xfa1737) [0x7f95c6ba4737]\n[bt] (3) /home/whatif/anaconda2/lib/python2.7/site-packages/mxnet/libmxnet.so(+0xdf2a95) [0x7f95c69f5a95]\n[bt] (4) /home/whatif/anaconda2/lib/python2.7/site-packages/mxnet/libmxnet.so(MXImperativeInvoke+0x254) [0x7f95c69f67a4]\n[bt] (5) /home/whatif/anaconda2/lib/python2.7/lib-dynload/../../libffi.so.6(ffi_call_unix64+0x4c) [0x7f95fc935adc]\n[bt] (6) /home/whatif/anaconda2/lib/python2.7/lib-dynload/../../libffi.so.6(ffi_call+0x1f2) [0x7f95fc935282]\n[bt] (7) /home/whatif/anaconda2/lib/python2.7/lib-dynload/_ctypes.so(_ctypes_callproc+0x4d6) [0x7f95fcb4a736]\n[bt] (8) /home/whatif/anaconda2/lib/python2.7/lib-dynload/_ctypes.so(+0x8a61) [0x7f95fcb40a61]\n[bt] (9) /home/whatif/anaconda2/bin/../lib/libpython2.7.so.1.0(PyObject_Call+0x43) [0x7f9601928773]\n"
     ]
    }
   ],
   "source": [
    "# Load the trained model\n",
    "sym, arg_params, aux_params = mx.model.load_checkpoint('models/chkpt', 210)\n",
    "model = mx.mod.Module(symbol=sym, context=mx.cpu(), label_names=None)\n",
    "model.bind(for_training=False, data_shapes=[('data', (1,3,200,200))], \n",
    "         label_shapes=model._label_shapes)\n",
    "model.set_params(arg_params, aux_params, allow_missing=True)"
   ]
  },
  {
   "cell_type": "code",
   "execution_count": null,
   "metadata": {},
   "outputs": [],
   "source": [
    "# Load the gesture mappings:\n",
    "import json\n",
    "\n",
    "num_to_ges = None\n",
    "with open('num2ges.json') as fin:\n",
    "    num_to_ges = json.load(fin, encoding='ascii')\n",
    "num_to_ges"
   ]
  },
  {
   "cell_type": "code",
   "execution_count": null,
   "metadata": {
    "collapsed": true
   },
   "outputs": [],
   "source": [
    "def get_processed_image(img):\n",
    "\n",
    "#     img = cv2.imread(im_path)\n",
    "    gray = cv2.cvtColor(img, cv2.COLOR_BGR2YCR_CB)\n",
    "    res = cv2.resize(gray,(200, 200), interpolation=cv2.INTER_CUBIC)\n",
    "\n",
    "    res = np.swapaxes(res, 0, 2)\n",
    "    res = np.swapaxes(res, 1, 2)\n",
    "    res = res[np.newaxis, :]\n",
    "\n",
    "    return res"
   ]
  },
  {
   "cell_type": "code",
   "execution_count": null,
   "metadata": {
    "collapsed": true
   },
   "outputs": [],
   "source": [
    "from collections import namedtuple\n",
    "Batch = namedtuple('Batch', ['data'])\n",
    "\n",
    "def predict(img):\n",
    "    im = get_processed_image(img)\n",
    "    \n",
    "    mod.forward(Batch([mx.nd.array(im)]))\n",
    "    \n",
    "    prob = mod.get_outputs()[0].asnumpy()\n",
    "    \n",
    "    prob = np.squeeze(prob)\n",
    "    \n",
    "    a = np.argsort(prob)[::-1]\n",
    "    \n",
    "    for i in a[:5]:\n",
    "        idx = str(i)\n",
    "        print('probability=%f, class=%s' %(prob[i], num_to_ges[idx]))"
   ]
  },
  {
   "cell_type": "code",
   "execution_count": null,
   "metadata": {
    "collapsed": true
   },
   "outputs": [],
   "source": [
    "data0 = pd.read_csv('full_hand_data.csv')#, names=['name','state'])"
   ]
  },
  {
   "cell_type": "code",
   "execution_count": null,
   "metadata": {},
   "outputs": [],
   "source": [
    "data0.tail()"
   ]
  },
  {
   "cell_type": "code",
   "execution_count": null,
   "metadata": {},
   "outputs": [],
   "source": [
    "one_test = data0['name'].values[-1]\n",
    "\n",
    "one_label = data0['state'].values[-1]\n",
    "\n",
    "one_test, one_label"
   ]
  },
  {
   "cell_type": "code",
   "execution_count": null,
   "metadata": {
    "collapsed": true
   },
   "outputs": [],
   "source": []
  },
  {
   "cell_type": "code",
   "execution_count": null,
   "metadata": {
    "collapsed": true
   },
   "outputs": [],
   "source": [
    "img = cv2.imread(one_test)"
   ]
  },
  {
   "cell_type": "code",
   "execution_count": null,
   "metadata": {},
   "outputs": [],
   "source": [
    "plt.imshow(img)"
   ]
  },
  {
   "cell_type": "code",
   "execution_count": null,
   "metadata": {},
   "outputs": [],
   "source": [
    "predict(img)"
   ]
  },
  {
   "cell_type": "code",
   "execution_count": null,
   "metadata": {},
   "outputs": [],
   "source": [
    "num_to_ges['29']"
   ]
  },
  {
   "cell_type": "code",
   "execution_count": null,
   "metadata": {
    "collapsed": true
   },
   "outputs": [],
   "source": [
    "# num_class = len(data0['state'].unique())\n",
    "# ges_to_num = dict({(g,i) for i, g in enumerate(data0['state'].unique())})\n",
    "# num_to_ges = dict({(i,g) for i, g in enumerate(data0['state'].unique())})\n",
    "# num_class, ges_to_num"
   ]
  },
  {
   "cell_type": "code",
   "execution_count": null,
   "metadata": {
    "collapsed": true
   },
   "outputs": [],
   "source": [
    "# data0 = data0.replace({'state':ges_to_num})"
   ]
  },
  {
   "cell_type": "code",
   "execution_count": null,
   "metadata": {},
   "outputs": [],
   "source": [
    "# labels = np.empty((data0.shape[0]))\n",
    "\n",
    "# res_width, res_height = 200, 200\n",
    "# imgs = np.empty(shape=(data0.shape[0],1,res_width,res_height))\n",
    "# imgs.shape, labels.shape"
   ]
  },
  {
   "cell_type": "code",
   "execution_count": null,
   "metadata": {
    "collapsed": true
   },
   "outputs": [],
   "source": [
    "# prefix = 'fdata/pic/'\n",
    "# outfix = 'fdata/bi_pic/'\n",
    "# for i, (im_name, state) in enumerate(data0.values):\n",
    "#     im_path = prefix + im_name\n",
    "# #     print im_path\n",
    "#     img = cv2.imread(im_path)\n",
    "#     gray = cv2.cvtColor(img, cv2.COLOR_BGR2GRAY)\n",
    "#     res = cv2.resize(gray,(200, 200), interpolation=cv2.INTER_CUBIC)\n",
    "\n",
    "#     imgs[i][0] = res\n",
    "#     labels[i] = state"
   ]
  },
  {
   "cell_type": "code",
   "execution_count": null,
   "metadata": {
    "collapsed": true
   },
   "outputs": [],
   "source": [
    "# metric = mx.metric.Accuracy()"
   ]
  },
  {
   "cell_type": "code",
   "execution_count": null,
   "metadata": {},
   "outputs": [],
   "source": [
    "# train_data, train_label = imgs, labels\n",
    "# # test_data, test_label = imgs[23:], labels[2:]\n",
    "# train_data.shape, train_label.shape#, test_data.shape, test_label.shape"
   ]
  },
  {
   "cell_type": "code",
   "execution_count": null,
   "metadata": {
    "collapsed": true
   },
   "outputs": [],
   "source": [
    "# batch_size = 10\n",
    "# train_iter = mx.io.NDArrayIter(train_data, train_label, batch_size, shuffle=True)\n",
    "# # eval_iter = mx.io.NDArrayIter(test_data, test_label, batch_size)"
   ]
  },
  {
   "cell_type": "code",
   "execution_count": null,
   "metadata": {
    "collapsed": true
   },
   "outputs": [],
   "source": [
    "# chk_prefix='models/chkpt'\n",
    "# sym, arg_params, aux_params = mx.model.load_checkpoint(chk_prefix,200)"
   ]
  },
  {
   "cell_type": "code",
   "execution_count": null,
   "metadata": {
    "collapsed": true
   },
   "outputs": [],
   "source": [
    "# model = mx.mod.Module(symbol=sym, context=mx.gpu(), label_names=None)"
   ]
  },
  {
   "cell_type": "code",
   "execution_count": null,
   "metadata": {
    "collapsed": true
   },
   "outputs": [],
   "source": [
    "# model.bind(for_training=False, data_shapes=[('data', (1,1,200,200))], \n",
    "#          label_shapes=model._label_shapes)"
   ]
  },
  {
   "cell_type": "code",
   "execution_count": null,
   "metadata": {
    "collapsed": true
   },
   "outputs": [],
   "source": [
    "# model.set_params(arg_params, aux_params, allow_missing=True)"
   ]
  },
  {
   "cell_type": "code",
   "execution_count": null,
   "metadata": {
    "collapsed": true
   },
   "outputs": [],
   "source": [
    "# m = model.predict(train_iter).asnumpy()"
   ]
  },
  {
   "cell_type": "code",
   "execution_count": null,
   "metadata": {
    "collapsed": true
   },
   "outputs": [],
   "source": [
    "# true = 0\n",
    "# cnt = 0\n",
    "# for prob, l in zip(m, train_label):\n",
    "#     prob = np.squeeze(prob)\n",
    "#     pred = np.argsort(prob)[::-1][-1]\n",
    "# #     print pred\n",
    "# #     pred = np.argsort(p)[0]\n",
    "#     lab = int(l)\n",
    "#     cnt += 1\n",
    "#     if pred == lab:\n",
    "#         true += 1\n",
    "        "
   ]
  },
  {
   "cell_type": "code",
   "execution_count": null,
   "metadata": {},
   "outputs": [],
   "source": [
    "# true, cnt"
   ]
  },
  {
   "cell_type": "code",
   "execution_count": null,
   "metadata": {
    "collapsed": true
   },
   "outputs": [],
   "source": []
  }
 ],
 "metadata": {
  "kernelspec": {
   "display_name": "Python 2",
   "language": "python",
   "name": "python2"
  },
  "language_info": {
   "codemirror_mode": {
    "name": "ipython",
    "version": 2
   },
   "file_extension": ".py",
   "mimetype": "text/x-python",
   "name": "python",
   "nbconvert_exporter": "python",
   "pygments_lexer": "ipython2",
   "version": "2.7.14"
  }
 },
 "nbformat": 4,
 "nbformat_minor": 2
}
