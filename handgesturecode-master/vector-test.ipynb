{
 "cells": [
  {
   "cell_type": "code",
   "execution_count": 11,
   "metadata": {
    "collapsed": true
   },
   "outputs": [],
   "source": [
    "import numpy as np\n",
    "import pandas as pd"
   ]
  },
  {
   "cell_type": "code",
   "execution_count": 46,
   "metadata": {
    "collapsed": true
   },
   "outputs": [],
   "source": [
    "data0 = pd.read_csv('vectors-vgg.csv')"
   ]
  },
  {
   "cell_type": "code",
   "execution_count": 47,
   "metadata": {},
   "outputs": [
    {
     "data": {
      "text/html": [
       "<div>\n",
       "<style>\n",
       "    .dataframe thead tr:only-child th {\n",
       "        text-align: right;\n",
       "    }\n",
       "\n",
       "    .dataframe thead th {\n",
       "        text-align: left;\n",
       "    }\n",
       "\n",
       "    .dataframe tbody tr th {\n",
       "        vertical-align: top;\n",
       "    }\n",
       "</style>\n",
       "<table border=\"1\" class=\"dataframe\">\n",
       "  <thead>\n",
       "    <tr style=\"text-align: right;\">\n",
       "      <th></th>\n",
       "      <th>0</th>\n",
       "      <th>1</th>\n",
       "      <th>2</th>\n",
       "      <th>3</th>\n",
       "      <th>4</th>\n",
       "      <th>5</th>\n",
       "      <th>6</th>\n",
       "      <th>7</th>\n",
       "      <th>8</th>\n",
       "      <th>9</th>\n",
       "      <th>...</th>\n",
       "      <th>991</th>\n",
       "      <th>992</th>\n",
       "      <th>993</th>\n",
       "      <th>994</th>\n",
       "      <th>995</th>\n",
       "      <th>996</th>\n",
       "      <th>997</th>\n",
       "      <th>998</th>\n",
       "      <th>999</th>\n",
       "      <th>1000</th>\n",
       "    </tr>\n",
       "  </thead>\n",
       "  <tbody>\n",
       "    <tr>\n",
       "      <th>0</th>\n",
       "      <td>-1.246683</td>\n",
       "      <td>6.624040</td>\n",
       "      <td>-0.606718</td>\n",
       "      <td>-0.851054</td>\n",
       "      <td>0.474709</td>\n",
       "      <td>1.806624</td>\n",
       "      <td>1.487473</td>\n",
       "      <td>1.470663</td>\n",
       "      <td>-0.417828</td>\n",
       "      <td>-1.656371</td>\n",
       "      <td>...</td>\n",
       "      <td>-1.011695</td>\n",
       "      <td>1.307024</td>\n",
       "      <td>-2.186823</td>\n",
       "      <td>-1.127010</td>\n",
       "      <td>-1.471392</td>\n",
       "      <td>-0.203775</td>\n",
       "      <td>-3.659761</td>\n",
       "      <td>-0.307708</td>\n",
       "      <td>4.177606</td>\n",
       "      <td>0.0</td>\n",
       "    </tr>\n",
       "    <tr>\n",
       "      <th>1</th>\n",
       "      <td>-2.470613</td>\n",
       "      <td>3.688039</td>\n",
       "      <td>-1.958393</td>\n",
       "      <td>-1.978041</td>\n",
       "      <td>-0.911774</td>\n",
       "      <td>-0.068162</td>\n",
       "      <td>-0.594931</td>\n",
       "      <td>1.189743</td>\n",
       "      <td>-1.754097</td>\n",
       "      <td>-1.071189</td>\n",
       "      <td>...</td>\n",
       "      <td>0.327684</td>\n",
       "      <td>1.374906</td>\n",
       "      <td>-1.448167</td>\n",
       "      <td>0.058202</td>\n",
       "      <td>-1.184850</td>\n",
       "      <td>-0.992800</td>\n",
       "      <td>-2.821052</td>\n",
       "      <td>0.129623</td>\n",
       "      <td>3.286464</td>\n",
       "      <td>0.0</td>\n",
       "    </tr>\n",
       "    <tr>\n",
       "      <th>2</th>\n",
       "      <td>-0.587389</td>\n",
       "      <td>2.829094</td>\n",
       "      <td>0.404811</td>\n",
       "      <td>0.268314</td>\n",
       "      <td>1.723726</td>\n",
       "      <td>1.675289</td>\n",
       "      <td>1.265673</td>\n",
       "      <td>-0.215723</td>\n",
       "      <td>-1.873593</td>\n",
       "      <td>-1.366205</td>\n",
       "      <td>...</td>\n",
       "      <td>-0.188889</td>\n",
       "      <td>1.305467</td>\n",
       "      <td>-0.679349</td>\n",
       "      <td>-0.665933</td>\n",
       "      <td>-1.586740</td>\n",
       "      <td>-0.443366</td>\n",
       "      <td>-1.867886</td>\n",
       "      <td>0.698703</td>\n",
       "      <td>3.334898</td>\n",
       "      <td>0.0</td>\n",
       "    </tr>\n",
       "    <tr>\n",
       "      <th>3</th>\n",
       "      <td>-1.236877</td>\n",
       "      <td>2.618824</td>\n",
       "      <td>0.807460</td>\n",
       "      <td>0.425849</td>\n",
       "      <td>1.235008</td>\n",
       "      <td>2.640085</td>\n",
       "      <td>2.037110</td>\n",
       "      <td>0.274359</td>\n",
       "      <td>-1.942938</td>\n",
       "      <td>-2.966073</td>\n",
       "      <td>...</td>\n",
       "      <td>-0.800087</td>\n",
       "      <td>1.462088</td>\n",
       "      <td>-2.865552</td>\n",
       "      <td>-1.642691</td>\n",
       "      <td>-1.806930</td>\n",
       "      <td>-2.721270</td>\n",
       "      <td>-2.681329</td>\n",
       "      <td>-0.899601</td>\n",
       "      <td>3.199855</td>\n",
       "      <td>1.0</td>\n",
       "    </tr>\n",
       "    <tr>\n",
       "      <th>4</th>\n",
       "      <td>-2.533560</td>\n",
       "      <td>1.370183</td>\n",
       "      <td>-0.742631</td>\n",
       "      <td>-1.192593</td>\n",
       "      <td>0.887384</td>\n",
       "      <td>0.404260</td>\n",
       "      <td>0.011725</td>\n",
       "      <td>1.356195</td>\n",
       "      <td>-1.496799</td>\n",
       "      <td>-1.285994</td>\n",
       "      <td>...</td>\n",
       "      <td>2.152020</td>\n",
       "      <td>0.615632</td>\n",
       "      <td>-1.614282</td>\n",
       "      <td>-1.592295</td>\n",
       "      <td>-1.313899</td>\n",
       "      <td>-1.312361</td>\n",
       "      <td>-3.812832</td>\n",
       "      <td>-0.114753</td>\n",
       "      <td>2.168467</td>\n",
       "      <td>1.0</td>\n",
       "    </tr>\n",
       "  </tbody>\n",
       "</table>\n",
       "<p>5 rows × 1001 columns</p>\n",
       "</div>"
      ],
      "text/plain": [
       "          0         1         2         3         4         5         6  \\\n",
       "0 -1.246683  6.624040 -0.606718 -0.851054  0.474709  1.806624  1.487473   \n",
       "1 -2.470613  3.688039 -1.958393 -1.978041 -0.911774 -0.068162 -0.594931   \n",
       "2 -0.587389  2.829094  0.404811  0.268314  1.723726  1.675289  1.265673   \n",
       "3 -1.236877  2.618824  0.807460  0.425849  1.235008  2.640085  2.037110   \n",
       "4 -2.533560  1.370183 -0.742631 -1.192593  0.887384  0.404260  0.011725   \n",
       "\n",
       "          7         8         9  ...        991       992       993       994  \\\n",
       "0  1.470663 -0.417828 -1.656371  ...  -1.011695  1.307024 -2.186823 -1.127010   \n",
       "1  1.189743 -1.754097 -1.071189  ...   0.327684  1.374906 -1.448167  0.058202   \n",
       "2 -0.215723 -1.873593 -1.366205  ...  -0.188889  1.305467 -0.679349 -0.665933   \n",
       "3  0.274359 -1.942938 -2.966073  ...  -0.800087  1.462088 -2.865552 -1.642691   \n",
       "4  1.356195 -1.496799 -1.285994  ...   2.152020  0.615632 -1.614282 -1.592295   \n",
       "\n",
       "        995       996       997       998       999  1000  \n",
       "0 -1.471392 -0.203775 -3.659761 -0.307708  4.177606   0.0  \n",
       "1 -1.184850 -0.992800 -2.821052  0.129623  3.286464   0.0  \n",
       "2 -1.586740 -0.443366 -1.867886  0.698703  3.334898   0.0  \n",
       "3 -1.806930 -2.721270 -2.681329 -0.899601  3.199855   1.0  \n",
       "4 -1.313899 -1.312361 -3.812832 -0.114753  2.168467   1.0  \n",
       "\n",
       "[5 rows x 1001 columns]"
      ]
     },
     "execution_count": 47,
     "metadata": {},
     "output_type": "execute_result"
    }
   ],
   "source": [
    "data0.head()"
   ]
  },
  {
   "cell_type": "code",
   "execution_count": 121,
   "metadata": {
    "collapsed": true
   },
   "outputs": [],
   "source": [
    "from sklearn import svm\n",
    "clf = svm.SVC(kernel=\"linear\", C=0.025)"
   ]
  },
  {
   "cell_type": "code",
   "execution_count": 122,
   "metadata": {},
   "outputs": [
    {
     "data": {
      "text/plain": [
       "((300, 1000), (300,))"
      ]
     },
     "execution_count": 122,
     "metadata": {},
     "output_type": "execute_result"
    }
   ],
   "source": [
    "X, y = data0.values[:,:-1], data0.values[:,-1]\n",
    "X.shape, y.shape"
   ]
  },
  {
   "cell_type": "code",
   "execution_count": 123,
   "metadata": {},
   "outputs": [
    {
     "data": {
      "text/plain": [
       "((210, 1000), (210,), (90, 1000), (90,))"
      ]
     },
     "execution_count": 123,
     "metadata": {},
     "output_type": "execute_result"
    }
   ],
   "source": [
    "from sklearn.model_selection import train_test_split\n",
    "X_train, X_test, y_train, y_test = train_test_split(X, y, test_size=0.3)\n",
    "X_train.shape, y_train.shape, X_test.shape, y_test.shape"
   ]
  },
  {
   "cell_type": "code",
   "execution_count": 124,
   "metadata": {},
   "outputs": [
    {
     "data": {
      "text/plain": [
       "SVC(C=0.025, cache_size=200, class_weight=None, coef0=0.0,\n",
       "  decision_function_shape='ovr', degree=3, gamma='auto', kernel='linear',\n",
       "  max_iter=-1, probability=False, random_state=None, shrinking=True,\n",
       "  tol=0.001, verbose=False)"
      ]
     },
     "execution_count": 124,
     "metadata": {},
     "output_type": "execute_result"
    }
   ],
   "source": [
    "clf.fit(X_train, y_train)"
   ]
  },
  {
   "cell_type": "code",
   "execution_count": 125,
   "metadata": {},
   "outputs": [
    {
     "data": {
      "text/plain": [
       "0.24444444444444444"
      ]
     },
     "execution_count": 125,
     "metadata": {},
     "output_type": "execute_result"
    }
   ],
   "source": [
    "clf.score(X_test, y_test)"
   ]
  },
  {
   "cell_type": "code",
   "execution_count": null,
   "metadata": {
    "collapsed": true
   },
   "outputs": [],
   "source": []
  },
  {
   "cell_type": "code",
   "execution_count": 126,
   "metadata": {
    "collapsed": true
   },
   "outputs": [],
   "source": [
    "# Tuning\n",
    "from sklearn.model_selection import GridSearchCV\n",
    "\n",
    "param_grid = [\n",
    "  {'C': [1, 10, 100, 1000], 'kernel': ['linear']},\n",
    "  {'C': [1, 10, 100, 1000], 'gamma': [0.001, 0.0001], 'kernel': ['rbf']},\n",
    " ]\n"
   ]
  },
  {
   "cell_type": "code",
   "execution_count": 127,
   "metadata": {},
   "outputs": [],
   "source": [
    "svc = svm.SVC()\n",
    "clf = GridSearchCV(svc, param_grid)"
   ]
  },
  {
   "cell_type": "code",
   "execution_count": 128,
   "metadata": {},
   "outputs": [
    {
     "data": {
      "text/plain": [
       "GridSearchCV(cv=None, error_score='raise',\n",
       "       estimator=SVC(C=1.0, cache_size=200, class_weight=None, coef0=0.0,\n",
       "  decision_function_shape='ovr', degree=3, gamma='auto', kernel='rbf',\n",
       "  max_iter=-1, probability=False, random_state=None, shrinking=True,\n",
       "  tol=0.001, verbose=False),\n",
       "       fit_params=None, iid=True, n_jobs=1,\n",
       "       param_grid=[{'kernel': ['linear'], 'C': [1, 10, 100, 1000]}, {'kernel': ['rbf'], 'C': [1, 10, 100, 1000], 'gamma': [0.001, 0.0001]}],\n",
       "       pre_dispatch='2*n_jobs', refit=True, return_train_score=True,\n",
       "       scoring=None, verbose=0)"
      ]
     },
     "execution_count": 128,
     "metadata": {},
     "output_type": "execute_result"
    }
   ],
   "source": [
    "clf.fit(X_train,y_train)"
   ]
  },
  {
   "cell_type": "code",
   "execution_count": 129,
   "metadata": {},
   "outputs": [
    {
     "data": {
      "text/plain": [
       "0.24444444444444444"
      ]
     },
     "execution_count": 129,
     "metadata": {},
     "output_type": "execute_result"
    }
   ],
   "source": [
    "clf.score(X_test, y_test)"
   ]
  },
  {
   "cell_type": "code",
   "execution_count": 130,
   "metadata": {},
   "outputs": [
    {
     "data": {
      "text/plain": [
       "{'C': 1, 'kernel': 'linear'}"
      ]
     },
     "execution_count": 130,
     "metadata": {},
     "output_type": "execute_result"
    }
   ],
   "source": [
    "clf.best_params_"
   ]
  },
  {
   "cell_type": "code",
   "execution_count": null,
   "metadata": {
    "collapsed": true
   },
   "outputs": [],
   "source": []
  },
  {
   "cell_type": "code",
   "execution_count": null,
   "metadata": {
    "collapsed": true
   },
   "outputs": [],
   "source": []
  },
  {
   "cell_type": "code",
   "execution_count": null,
   "metadata": {
    "collapsed": true
   },
   "outputs": [],
   "source": []
  },
  {
   "cell_type": "code",
   "execution_count": 133,
   "metadata": {},
   "outputs": [
    {
     "data": {
      "text/plain": [
       "RandomForestClassifier(bootstrap=True, class_weight=None, criterion='gini',\n",
       "            max_depth=6, max_features=2, max_leaf_nodes=None,\n",
       "            min_impurity_decrease=0.0, min_impurity_split=None,\n",
       "            min_samples_leaf=1, min_samples_split=2,\n",
       "            min_weight_fraction_leaf=0.0, n_estimators=10, n_jobs=1,\n",
       "            oob_score=False, random_state=None, verbose=0,\n",
       "            warm_start=False)"
      ]
     },
     "execution_count": 133,
     "metadata": {},
     "output_type": "execute_result"
    }
   ],
   "source": [
    "from sklearn.ensemble import RandomForestClassifier\n",
    "from sklearn.neighbors import KNeighborsClassifier\n",
    "\n",
    "rf = RandomForestClassifier(max_depth=6, n_estimators=10, max_features=2)\n",
    "\n",
    "rf.fit(X_train, y_train)\n"
   ]
  },
  {
   "cell_type": "code",
   "execution_count": 134,
   "metadata": {},
   "outputs": [
    {
     "data": {
      "text/plain": [
       "0.15555555555555556"
      ]
     },
     "execution_count": 134,
     "metadata": {},
     "output_type": "execute_result"
    }
   ],
   "source": [
    "rf.score(X_test, y_test)"
   ]
  },
  {
   "cell_type": "code",
   "execution_count": 135,
   "metadata": {
    "collapsed": true
   },
   "outputs": [],
   "source": [
    "from sklearn.neural_network import MLPClassifier\n",
    "mlp = MLPClassifier(alpha=1)"
   ]
  },
  {
   "cell_type": "code",
   "execution_count": 137,
   "metadata": {},
   "outputs": [
    {
     "data": {
      "text/plain": [
       "MLPClassifier(activation='relu', alpha=1, batch_size='auto', beta_1=0.9,\n",
       "       beta_2=0.999, early_stopping=False, epsilon=1e-08,\n",
       "       hidden_layer_sizes=(100,), learning_rate='constant',\n",
       "       learning_rate_init=0.001, max_iter=200, momentum=0.9,\n",
       "       nesterovs_momentum=True, power_t=0.5, random_state=None,\n",
       "       shuffle=True, solver='adam', tol=0.0001, validation_fraction=0.1,\n",
       "       verbose=False, warm_start=False)"
      ]
     },
     "execution_count": 137,
     "metadata": {},
     "output_type": "execute_result"
    }
   ],
   "source": [
    "mlp.fit(X_train, y_train)"
   ]
  },
  {
   "cell_type": "code",
   "execution_count": 138,
   "metadata": {},
   "outputs": [
    {
     "data": {
      "text/plain": [
       "0.17777777777777778"
      ]
     },
     "execution_count": 138,
     "metadata": {},
     "output_type": "execute_result"
    }
   ],
   "source": [
    "mlp.score(X_test, y_test)"
   ]
  },
  {
   "cell_type": "code",
   "execution_count": null,
   "metadata": {
    "collapsed": true
   },
   "outputs": [],
   "source": []
  }
 ],
 "metadata": {
  "kernelspec": {
   "display_name": "Python 2",
   "language": "python",
   "name": "python2"
  },
  "language_info": {
   "codemirror_mode": {
    "name": "ipython",
    "version": 2
   },
   "file_extension": ".py",
   "mimetype": "text/x-python",
   "name": "python",
   "nbconvert_exporter": "python",
   "pygments_lexer": "ipython2",
   "version": "2.7.12"
  }
 },
 "nbformat": 4,
 "nbformat_minor": 2
}
