{
 "cells": [
  {
   "cell_type": "code",
   "execution_count": 1,
   "metadata": {
    "collapsed": true
   },
   "outputs": [],
   "source": [
    "import numpy as np\n",
    "import pandas as pd"
   ]
  },
  {
   "cell_type": "code",
   "execution_count": 2,
   "metadata": {
    "collapsed": true
   },
   "outputs": [],
   "source": [
    "data0 = pd.read_csv('vectors.csv')"
   ]
  },
  {
   "cell_type": "code",
   "execution_count": 5,
   "metadata": {},
   "outputs": [
    {
     "data": {
      "text/html": [
       "<div>\n",
       "<style>\n",
       "    .dataframe thead tr:only-child th {\n",
       "        text-align: right;\n",
       "    }\n",
       "\n",
       "    .dataframe thead th {\n",
       "        text-align: left;\n",
       "    }\n",
       "\n",
       "    .dataframe tbody tr th {\n",
       "        vertical-align: top;\n",
       "    }\n",
       "</style>\n",
       "<table border=\"1\" class=\"dataframe\">\n",
       "  <thead>\n",
       "    <tr style=\"text-align: right;\">\n",
       "      <th></th>\n",
       "      <th>0</th>\n",
       "      <th>1</th>\n",
       "      <th>2</th>\n",
       "      <th>3</th>\n",
       "      <th>4</th>\n",
       "      <th>5</th>\n",
       "      <th>6</th>\n",
       "      <th>7</th>\n",
       "      <th>8</th>\n",
       "      <th>9</th>\n",
       "      <th>...</th>\n",
       "      <th>991</th>\n",
       "      <th>992</th>\n",
       "      <th>993</th>\n",
       "      <th>994</th>\n",
       "      <th>995</th>\n",
       "      <th>996</th>\n",
       "      <th>997</th>\n",
       "      <th>998</th>\n",
       "      <th>999</th>\n",
       "      <th>1000</th>\n",
       "    </tr>\n",
       "  </thead>\n",
       "  <tbody>\n",
       "    <tr>\n",
       "      <th>0</th>\n",
       "      <td>-3.754540</td>\n",
       "      <td>0.728985</td>\n",
       "      <td>-0.130730</td>\n",
       "      <td>1.272020</td>\n",
       "      <td>2.951246</td>\n",
       "      <td>1.839303</td>\n",
       "      <td>4.277499</td>\n",
       "      <td>-0.408873</td>\n",
       "      <td>-0.717986</td>\n",
       "      <td>-1.371621</td>\n",
       "      <td>...</td>\n",
       "      <td>2.464576</td>\n",
       "      <td>0.881646</td>\n",
       "      <td>-3.162937</td>\n",
       "      <td>3.351016</td>\n",
       "      <td>0.516945</td>\n",
       "      <td>0.321532</td>\n",
       "      <td>0.275745</td>\n",
       "      <td>0.615005</td>\n",
       "      <td>4.114353</td>\n",
       "      <td>0.0</td>\n",
       "    </tr>\n",
       "    <tr>\n",
       "      <th>1</th>\n",
       "      <td>-5.666968</td>\n",
       "      <td>-1.240798</td>\n",
       "      <td>-1.821932</td>\n",
       "      <td>-2.604705</td>\n",
       "      <td>-0.980161</td>\n",
       "      <td>-1.331887</td>\n",
       "      <td>-0.350637</td>\n",
       "      <td>0.918021</td>\n",
       "      <td>0.232307</td>\n",
       "      <td>-2.029938</td>\n",
       "      <td>...</td>\n",
       "      <td>1.327590</td>\n",
       "      <td>3.215770</td>\n",
       "      <td>-1.448117</td>\n",
       "      <td>4.844790</td>\n",
       "      <td>2.411205</td>\n",
       "      <td>0.606608</td>\n",
       "      <td>-0.636584</td>\n",
       "      <td>1.168528</td>\n",
       "      <td>2.824069</td>\n",
       "      <td>0.0</td>\n",
       "    </tr>\n",
       "    <tr>\n",
       "      <th>2</th>\n",
       "      <td>-5.126580</td>\n",
       "      <td>-0.732096</td>\n",
       "      <td>-2.289064</td>\n",
       "      <td>-0.944198</td>\n",
       "      <td>0.315583</td>\n",
       "      <td>0.418892</td>\n",
       "      <td>-0.160059</td>\n",
       "      <td>2.437927</td>\n",
       "      <td>0.992982</td>\n",
       "      <td>0.399418</td>\n",
       "      <td>...</td>\n",
       "      <td>3.359117</td>\n",
       "      <td>1.480421</td>\n",
       "      <td>-0.460260</td>\n",
       "      <td>2.391668</td>\n",
       "      <td>1.840214</td>\n",
       "      <td>1.120641</td>\n",
       "      <td>-1.239437</td>\n",
       "      <td>2.341456</td>\n",
       "      <td>2.029274</td>\n",
       "      <td>0.0</td>\n",
       "    </tr>\n",
       "    <tr>\n",
       "      <th>3</th>\n",
       "      <td>-3.827496</td>\n",
       "      <td>-0.535015</td>\n",
       "      <td>0.171348</td>\n",
       "      <td>0.624620</td>\n",
       "      <td>1.418870</td>\n",
       "      <td>1.348208</td>\n",
       "      <td>1.385560</td>\n",
       "      <td>2.250434</td>\n",
       "      <td>0.476254</td>\n",
       "      <td>-0.687635</td>\n",
       "      <td>...</td>\n",
       "      <td>2.395757</td>\n",
       "      <td>0.487600</td>\n",
       "      <td>-0.807953</td>\n",
       "      <td>2.483791</td>\n",
       "      <td>0.329151</td>\n",
       "      <td>0.235001</td>\n",
       "      <td>-0.078086</td>\n",
       "      <td>1.231472</td>\n",
       "      <td>1.670732</td>\n",
       "      <td>1.0</td>\n",
       "    </tr>\n",
       "    <tr>\n",
       "      <th>4</th>\n",
       "      <td>-4.672831</td>\n",
       "      <td>-0.060310</td>\n",
       "      <td>-0.954788</td>\n",
       "      <td>0.234452</td>\n",
       "      <td>1.585102</td>\n",
       "      <td>-0.269319</td>\n",
       "      <td>-0.700253</td>\n",
       "      <td>3.236113</td>\n",
       "      <td>1.130154</td>\n",
       "      <td>-1.209331</td>\n",
       "      <td>...</td>\n",
       "      <td>3.057495</td>\n",
       "      <td>-1.726115</td>\n",
       "      <td>-0.589722</td>\n",
       "      <td>0.624527</td>\n",
       "      <td>0.157877</td>\n",
       "      <td>-0.354449</td>\n",
       "      <td>-3.319396</td>\n",
       "      <td>2.455438</td>\n",
       "      <td>2.179068</td>\n",
       "      <td>1.0</td>\n",
       "    </tr>\n",
       "  </tbody>\n",
       "</table>\n",
       "<p>5 rows × 1001 columns</p>\n",
       "</div>"
      ],
      "text/plain": [
       "          0         1         2         3         4         5         6  \\\n",
       "0 -3.754540  0.728985 -0.130730  1.272020  2.951246  1.839303  4.277499   \n",
       "1 -5.666968 -1.240798 -1.821932 -2.604705 -0.980161 -1.331887 -0.350637   \n",
       "2 -5.126580 -0.732096 -2.289064 -0.944198  0.315583  0.418892 -0.160059   \n",
       "3 -3.827496 -0.535015  0.171348  0.624620  1.418870  1.348208  1.385560   \n",
       "4 -4.672831 -0.060310 -0.954788  0.234452  1.585102 -0.269319 -0.700253   \n",
       "\n",
       "          7         8         9  ...        991       992       993       994  \\\n",
       "0 -0.408873 -0.717986 -1.371621  ...   2.464576  0.881646 -3.162937  3.351016   \n",
       "1  0.918021  0.232307 -2.029938  ...   1.327590  3.215770 -1.448117  4.844790   \n",
       "2  2.437927  0.992982  0.399418  ...   3.359117  1.480421 -0.460260  2.391668   \n",
       "3  2.250434  0.476254 -0.687635  ...   2.395757  0.487600 -0.807953  2.483791   \n",
       "4  3.236113  1.130154 -1.209331  ...   3.057495 -1.726115 -0.589722  0.624527   \n",
       "\n",
       "        995       996       997       998       999  1000  \n",
       "0  0.516945  0.321532  0.275745  0.615005  4.114353   0.0  \n",
       "1  2.411205  0.606608 -0.636584  1.168528  2.824069   0.0  \n",
       "2  1.840214  1.120641 -1.239437  2.341456  2.029274   0.0  \n",
       "3  0.329151  0.235001 -0.078086  1.231472  1.670732   1.0  \n",
       "4  0.157877 -0.354449 -3.319396  2.455438  2.179068   1.0  \n",
       "\n",
       "[5 rows x 1001 columns]"
      ]
     },
     "execution_count": 5,
     "metadata": {},
     "output_type": "execute_result"
    }
   ],
   "source": [
    "data0.head()"
   ]
  },
  {
   "cell_type": "code",
   "execution_count": 6,
   "metadata": {},
   "outputs": [
    {
     "data": {
      "text/plain": [
       "((300, 1000), (300,))"
      ]
     },
     "execution_count": 6,
     "metadata": {},
     "output_type": "execute_result"
    }
   ],
   "source": [
    "X, y = data0.values[:,:-1], data0.values[:,-1]\n",
    "X.shape, y.shape"
   ]
  },
  {
   "cell_type": "code",
   "execution_count": 7,
   "metadata": {},
   "outputs": [
    {
     "data": {
      "text/plain": [
       "((270, 1000), (30, 1000), (270,), (30,))"
      ]
     },
     "execution_count": 7,
     "metadata": {},
     "output_type": "execute_result"
    }
   ],
   "source": [
    "from sklearn import svm\n",
    "from sklearn.model_selection import train_test_split\n",
    "\n",
    "X_train, X_test, y_train, y_test = train_test_split(X, y, test_size=0.1, random_state=42)\n",
    "\n",
    "X_train.shape, X_test.shape, y_train.shape, y_test.shape"
   ]
  },
  {
   "cell_type": "code",
   "execution_count": 8,
   "metadata": {
    "collapsed": true
   },
   "outputs": [],
   "source": [
    "clf = svm.SVC()"
   ]
  },
  {
   "cell_type": "code",
   "execution_count": 9,
   "metadata": {},
   "outputs": [
    {
     "data": {
      "text/plain": [
       "SVC(C=1.0, cache_size=200, class_weight=None, coef0=0.0,\n",
       "  decision_function_shape='ovr', degree=3, gamma='auto', kernel='rbf',\n",
       "  max_iter=-1, probability=False, random_state=None, shrinking=True,\n",
       "  tol=0.001, verbose=False)"
      ]
     },
     "execution_count": 9,
     "metadata": {},
     "output_type": "execute_result"
    }
   ],
   "source": [
    "clf.fit(X_train, y_train)"
   ]
  },
  {
   "cell_type": "code",
   "execution_count": 10,
   "metadata": {},
   "outputs": [
    {
     "data": {
      "text/plain": [
       "0.13333333333333333"
      ]
     },
     "execution_count": 10,
     "metadata": {},
     "output_type": "execute_result"
    }
   ],
   "source": [
    "clf.score(X_test, y_test)"
   ]
  },
  {
   "cell_type": "code",
   "execution_count": null,
   "metadata": {
    "collapsed": true
   },
   "outputs": [],
   "source": []
  }
 ],
 "metadata": {
  "kernelspec": {
   "display_name": "Python 2",
   "language": "python",
   "name": "python2"
  },
  "language_info": {
   "codemirror_mode": {
    "name": "ipython",
    "version": 2
   },
   "file_extension": ".py",
   "mimetype": "text/x-python",
   "name": "python",
   "nbconvert_exporter": "python",
   "pygments_lexer": "ipython2",
   "version": "2.7.12"
  }
 },
 "nbformat": 4,
 "nbformat_minor": 2
}
