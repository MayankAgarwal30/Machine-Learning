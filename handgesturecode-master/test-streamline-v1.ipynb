{
 "cells": [
  {
   "cell_type": "code",
   "execution_count": 19,
   "metadata": {
    "collapsed": true
   },
   "outputs": [],
   "source": [
    "import numpy as np\n",
    "import mxnet as mx\n",
    "import time\n",
    "import pandas as pd\n",
    "\n",
    "import cv2\n",
    "\n",
    "import logging\n",
    "logging.getLogger().setLevel(logging.DEBUG)  # logging to stdout"
   ]
  },
  {
   "cell_type": "code",
   "execution_count": 20,
   "metadata": {
    "collapsed": true
   },
   "outputs": [],
   "source": [
    "import matplotlib.pyplot as plt\n",
    "%matplotlib inline"
   ]
  },
  {
   "cell_type": "code",
   "execution_count": 23,
   "metadata": {},
   "outputs": [],
   "source": [
    "# Load the trained model\n",
    "sym, arg_params, aux_params = mx.model.load_checkpoint('models/chkpt', 210)\n",
    "model = mx.mod.Module(symbol=sym, context=mx.cpu(), label_names=None)\n",
    "model.bind(for_training=False, data_shapes=[('data', (1,3,200,200))], \n",
    "         label_shapes=model._label_shapes)\n",
    "model.set_params(arg_params, aux_params, allow_missing=True)"
   ]
  },
  {
   "cell_type": "code",
   "execution_count": 14,
   "metadata": {},
   "outputs": [
    {
     "data": {
      "text/plain": [
       "{u'0': u' lc',\n",
       " u'1': u' lo',\n",
       " u'10': u' mc',\n",
       " u'11': u' mo',\n",
       " u'12': u' mq',\n",
       " u'13': u' mw',\n",
       " u'14': u' me',\n",
       " u'15': u' m1',\n",
       " u'16': u' m2',\n",
       " u'17': u' m3',\n",
       " u'18': u' m4',\n",
       " u'19': u' m5',\n",
       " u'2': u' lq',\n",
       " u'20': u' rc',\n",
       " u'21': u' ro',\n",
       " u'22': u' rq',\n",
       " u'23': u' rw',\n",
       " u'24': u' re',\n",
       " u'25': u' r1',\n",
       " u'26': u' r2',\n",
       " u'27': u' r3',\n",
       " u'28': u' r4',\n",
       " u'29': u' r5',\n",
       " u'3': u' lw',\n",
       " u'4': u' le',\n",
       " u'5': u' l1',\n",
       " u'6': u' l2',\n",
       " u'7': u' l3',\n",
       " u'8': u' l4',\n",
       " u'9': u' l5'}"
      ]
     },
     "execution_count": 14,
     "metadata": {},
     "output_type": "execute_result"
    }
   ],
   "source": [
    "# Load the gesture mappings:\n",
    "import json\n",
    "\n",
    "num_to_ges = None\n",
    "with open('num2ges.json') as fin:\n",
    "    num_to_ges = json.load(fin, encoding='ascii')\n",
    "num_to_ges"
   ]
  },
  {
   "cell_type": "code",
   "execution_count": 28,
   "metadata": {
    "collapsed": true
   },
   "outputs": [],
   "source": [
    "def get_processed_image(img):\n",
    "\n",
    "#     img = cv2.imread(im_path)\n",
    "    gray = cv2.cvtColor(img, cv2.COLOR_BGR2YCR_CB)\n",
    "    res = cv2.resize(gray,(200, 200), interpolation=cv2.INTER_CUBIC)\n",
    "\n",
    "    res = np.swapaxes(res, 0, 2)\n",
    "    res = np.swapaxes(res, 1, 2)\n",
    "    res = res[np.newaxis, :]\n",
    "\n",
    "    return res"
   ]
  },
  {
   "cell_type": "code",
   "execution_count": 29,
   "metadata": {
    "collapsed": true
   },
   "outputs": [],
   "source": [
    "from collections import namedtuple\n",
    "Batch = namedtuple('Batch', ['data'])\n",
    "\n",
    "def predict(img):\n",
    "    im = get_processed_image(img)\n",
    "    \n",
    "    mod.forward(Batch([mx.nd.array(im)]))\n",
    "    \n",
    "    prob = mod.get_outputs()[0].asnumpy()\n",
    "    \n",
    "    prob = np.squeeze(prob)\n",
    "    \n",
    "    a = np.argsort(prob)[::-1]\n",
    "    \n",
    "    for i in a[:5]:\n",
    "        idx = str(i)\n",
    "        print('probability=%f, class=%s' %(prob[i], num_to_ges[idx]))"
   ]
  },
  {
   "cell_type": "code",
   "execution_count": 24,
   "metadata": {
    "collapsed": true
   },
   "outputs": [],
   "source": [
    "data0 = pd.read_csv('full_hand_data.csv')#, names=['name','state'])"
   ]
  },
  {
   "cell_type": "code",
   "execution_count": 26,
   "metadata": {},
   "outputs": [
    {
     "data": {
      "text/html": [
       "<div>\n",
       "<style>\n",
       "    .dataframe thead tr:only-child th {\n",
       "        text-align: right;\n",
       "    }\n",
       "\n",
       "    .dataframe thead th {\n",
       "        text-align: left;\n",
       "    }\n",
       "\n",
       "    .dataframe tbody tr th {\n",
       "        vertical-align: top;\n",
       "    }\n",
       "</style>\n",
       "<table border=\"1\" class=\"dataframe\">\n",
       "  <thead>\n",
       "    <tr style=\"text-align: right;\">\n",
       "      <th></th>\n",
       "      <th>name</th>\n",
       "      <th>state</th>\n",
       "    </tr>\n",
       "  </thead>\n",
       "  <tbody>\n",
       "    <tr>\n",
       "      <th>2155</th>\n",
       "      <td>data/fdata4/hand_pic/a_c84316f5_656_r1.jpg</td>\n",
       "      <td>25</td>\n",
       "    </tr>\n",
       "    <tr>\n",
       "      <th>2156</th>\n",
       "      <td>data/fdata4/hand_pic/a_c84316f5_657_r2.jpg</td>\n",
       "      <td>26</td>\n",
       "    </tr>\n",
       "    <tr>\n",
       "      <th>2157</th>\n",
       "      <td>data/fdata4/hand_pic/a_c84316f5_658_r3.jpg</td>\n",
       "      <td>27</td>\n",
       "    </tr>\n",
       "    <tr>\n",
       "      <th>2158</th>\n",
       "      <td>data/fdata4/hand_pic/a_c84316f5_660_r4.jpg</td>\n",
       "      <td>28</td>\n",
       "    </tr>\n",
       "    <tr>\n",
       "      <th>2159</th>\n",
       "      <td>data/fdata4/hand_pic/a_c84316f5_661_r5.jpg</td>\n",
       "      <td>29</td>\n",
       "    </tr>\n",
       "  </tbody>\n",
       "</table>\n",
       "</div>"
      ],
      "text/plain": [
       "                                            name  state\n",
       "2155  data/fdata4/hand_pic/a_c84316f5_656_r1.jpg     25\n",
       "2156  data/fdata4/hand_pic/a_c84316f5_657_r2.jpg     26\n",
       "2157  data/fdata4/hand_pic/a_c84316f5_658_r3.jpg     27\n",
       "2158  data/fdata4/hand_pic/a_c84316f5_660_r4.jpg     28\n",
       "2159  data/fdata4/hand_pic/a_c84316f5_661_r5.jpg     29"
      ]
     },
     "execution_count": 26,
     "metadata": {},
     "output_type": "execute_result"
    }
   ],
   "source": [
    "data0.tail()"
   ]
  },
  {
   "cell_type": "code",
   "execution_count": 47,
   "metadata": {},
   "outputs": [
    {
     "data": {
      "text/plain": [
       "('data/fdata4/hand_pic/a_c84316f5_661_r5.jpg', 29)"
      ]
     },
     "execution_count": 47,
     "metadata": {},
     "output_type": "execute_result"
    }
   ],
   "source": [
    "one_test = data0['name'].values[-1]\n",
    "\n",
    "one_label = data0['state'].values[-1]\n",
    "\n",
    "one_test, one_label"
   ]
  },
  {
   "cell_type": "code",
   "execution_count": null,
   "metadata": {},
   "outputs": [],
   "source": []
  },
  {
   "cell_type": "code",
   "execution_count": 48,
   "metadata": {
    "collapsed": true
   },
   "outputs": [],
   "source": [
    "img = cv2.imread(one_test)"
   ]
  },
  {
   "cell_type": "code",
   "execution_count": 49,
   "metadata": {},
   "outputs": [
    {
     "data": {
      "text/plain": [
       "<matplotlib.image.AxesImage at 0x7ff053d91710>"
      ]
     },
     "execution_count": 49,
     "metadata": {},
     "output_type": "execute_result"
    },
    {
     "data": {
      "image/png": "[encoded data removed]",
      "text/plain": [
       "<matplotlib.figure.Figure at 0x7ff0611b7390>"
      ]
     },
     "metadata": {},
     "output_type": "display_data"
    }
   ],
   "source": [
    "plt.imshow(img)"
   ]
  },
  {
   "cell_type": "code",
   "execution_count": 50,
   "metadata": {},
   "outputs": [
    {
     "name": "stdout",
     "output_type": "stream",
     "text": [
      "probability=0.955434, class= r5\n",
      "probability=0.029900, class= ro\n",
      "probability=0.005476, class= r4\n",
      "probability=0.003016, class= r2\n",
      "probability=0.001262, class= r1\n"
     ]
    }
   ],
   "source": [
    "predict(img)"
   ]
  },
  {
   "cell_type": "code",
   "execution_count": 52,
   "metadata": {},
   "outputs": [
    {
     "data": {
      "text/plain": [
       "u' r5'"
      ]
     },
     "execution_count": 52,
     "metadata": {},
     "output_type": "execute_result"
    }
   ],
   "source": [
    "num_to_ges[str(one_label)]"
   ]
  },
  {
   "cell_type": "code",
   "execution_count": 17,
   "metadata": {},
   "outputs": [],
   "source": [
    "# num_class = len(data0['state'].unique())\n",
    "# ges_to_num = dict({(g,i) for i, g in enumerate(data0['state'].unique())})\n",
    "# num_to_ges = dict({(i,g) for i, g in enumerate(data0['state'].unique())})\n",
    "# num_class, ges_to_num"
   ]
  },
  {
   "cell_type": "code",
   "execution_count": 18,
   "metadata": {
    "collapsed": true
   },
   "outputs": [],
   "source": [
    "# data0 = data0.replace({'state':ges_to_num})"
   ]
  },
  {
   "cell_type": "code",
   "execution_count": 6,
   "metadata": {},
   "outputs": [
    {
     "data": {
      "text/plain": [
       "((300, 1, 200, 200), (300,))"
      ]
     },
     "execution_count": 6,
     "metadata": {},
     "output_type": "execute_result"
    }
   ],
   "source": [
    "# labels = np.empty((data0.shape[0]))\n",
    "\n",
    "# res_width, res_height = 200, 200\n",
    "# imgs = np.empty(shape=(data0.shape[0],1,res_width,res_height))\n",
    "# imgs.shape, labels.shape"
   ]
  },
  {
   "cell_type": "code",
   "execution_count": 7,
   "metadata": {
    "collapsed": true
   },
   "outputs": [],
   "source": [
    "# prefix = 'fdata/pic/'\n",
    "# outfix = 'fdata/bi_pic/'\n",
    "# for i, (im_name, state) in enumerate(data0.values):\n",
    "#     im_path = prefix + im_name\n",
    "# #     print im_path\n",
    "#     img = cv2.imread(im_path)\n",
    "#     gray = cv2.cvtColor(img, cv2.COLOR_BGR2GRAY)\n",
    "#     res = cv2.resize(gray,(200, 200), interpolation=cv2.INTER_CUBIC)\n",
    "\n",
    "#     imgs[i][0] = res\n",
    "#     labels[i] = state"
   ]
  },
  {
   "cell_type": "code",
   "execution_count": 8,
   "metadata": {
    "collapsed": true
   },
   "outputs": [],
   "source": [
    "# metric = mx.metric.Accuracy()"
   ]
  },
  {
   "cell_type": "code",
   "execution_count": 9,
   "metadata": {},
   "outputs": [
    {
     "data": {
      "text/plain": [
       "((300, 1, 200, 200), (300,))"
      ]
     },
     "execution_count": 9,
     "metadata": {},
     "output_type": "execute_result"
    }
   ],
   "source": [
    "# train_data, train_label = imgs, labels\n",
    "# # test_data, test_label = imgs[23:], labels[2:]\n",
    "# train_data.shape, train_label.shape#, test_data.shape, test_label.shape"
   ]
  },
  {
   "cell_type": "code",
   "execution_count": 52,
   "metadata": {
    "collapsed": true
   },
   "outputs": [],
   "source": [
    "# batch_size = 10\n",
    "# train_iter = mx.io.NDArrayIter(train_data, train_label, batch_size, shuffle=True)\n",
    "# # eval_iter = mx.io.NDArrayIter(test_data, test_label, batch_size)"
   ]
  },
  {
   "cell_type": "code",
   "execution_count": 53,
   "metadata": {
    "collapsed": true
   },
   "outputs": [],
   "source": [
    "# chk_prefix='models/chkpt'\n",
    "# sym, arg_params, aux_params = mx.model.load_checkpoint(chk_prefix,200)"
   ]
  },
  {
   "cell_type": "code",
   "execution_count": 54,
   "metadata": {
    "collapsed": true
   },
   "outputs": [],
   "source": [
    "# model = mx.mod.Module(symbol=sym, context=mx.gpu(), label_names=None)"
   ]
  },
  {
   "cell_type": "code",
   "execution_count": 55,
   "metadata": {
    "collapsed": true
   },
   "outputs": [],
   "source": [
    "# model.bind(for_training=False, data_shapes=[('data', (1,1,200,200))], \n",
    "#          label_shapes=model._label_shapes)"
   ]
  },
  {
   "cell_type": "code",
   "execution_count": 56,
   "metadata": {
    "collapsed": true
   },
   "outputs": [],
   "source": [
    "# model.set_params(arg_params, aux_params, allow_missing=True)"
   ]
  },
  {
   "cell_type": "code",
   "execution_count": 1,
   "metadata": {
    "collapsed": true
   },
   "outputs": [],
   "source": [
    "# m = model.predict(train_iter).asnumpy()"
   ]
  },
  {
   "cell_type": "code",
   "execution_count": 50,
   "metadata": {
    "collapsed": true
   },
   "outputs": [],
   "source": [
    "# true = 0\n",
    "# cnt = 0\n",
    "# for prob, l in zip(m, train_label):\n",
    "#     prob = np.squeeze(prob)\n",
    "#     pred = np.argsort(prob)[::-1][-1]\n",
    "# #     print pred\n",
    "# #     pred = np.argsort(p)[0]\n",
    "#     lab = int(l)\n",
    "#     cnt += 1\n",
    "#     if pred == lab:\n",
    "#         true += 1\n",
    "        "
   ]
  },
  {
   "cell_type": "code",
   "execution_count": 51,
   "metadata": {},
   "outputs": [
    {
     "data": {
      "text/plain": [
       "(15, 300)"
      ]
     },
     "execution_count": 51,
     "metadata": {},
     "output_type": "execute_result"
    }
   ],
   "source": [
    "# true, cnt"
   ]
  },
  {
   "cell_type": "code",
   "execution_count": null,
   "metadata": {
    "collapsed": true
   },
   "outputs": [],
   "source": []
  }
 ],
 "metadata": {
  "kernelspec": {
   "display_name": "Python 2",
   "language": "python",
   "name": "python2"
  },
  "language_info": {
   "codemirror_mode": {
    "name": "ipython",
    "version": 2
   },
   "file_extension": ".py",
   "mimetype": "text/x-python",
   "name": "python",
   "nbconvert_exporter": "python",
   "pygments_lexer": "ipython2",
   "version": "2.7.12"
  }
 },
 "nbformat": 4,
 "nbformat_minor": 2
}
